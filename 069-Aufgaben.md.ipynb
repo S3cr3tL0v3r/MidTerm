{
  "cells": [
    {
      "cell_type": "markdown",
      "metadata": {
        "slideshow": {
          "slide_type": "slide"
        }
      },
      "source": [
        "# Wichtig: \n",
        "\n",
        "in der Vorlesung besprochen!  \n",
        "\n",
        "* Diese Aufgabe wird als Team Projekt bewertet. (max. 3 Teilnehmer) \n",
        "* Die hier erreichten Punkte gehen zu 20% in Klausur-Bewertung ein.\n",
        "\n",
        "## Teilnehmer\n",
        "\n",
        "* Geben Sie hier im Dokument die Namen der Teilnehmer an! \n",
        "\n",
        "Teilnehmer: \n",
        "* Sebastian Trauth\n",
        "* Henrik Kaltenbach\n",
        "* ...\n",
        "\n",
        "### Abgabe\n",
        "\n",
        "* Die Abgabe erfolgt über Moodle\n",
        "\n",
        "* Abzugeben ist ein jupyter Notebook mit\n",
        "    * Text, der beschreibt was und wieso sie die einzelnen Analyse-Schritte durchführen \n",
        "    * Pythoncode, der die einzelnen Schritte durchführt\n",
        "    * eine Zusammenfassung am Ende\n",
        "\n",
        "\n",
        "\n",
        "* Sie können neue Zellen mit Hilfe der Jupyter-Icons hinzufügen\n",
        "    * Sie können zwischen Markdown oder Code wählen \n",
        "\n",
        "* Export des Jupyter Notebooks\n",
        "    * save as --> ipynb\n",
        "\n",
        "* Das Jupyter Notebook zur Deadline in Moodle hochladen! \n",
        "    * der Name des JupyterNotebooks enthält auch die Namen der Teilnehmer\n",
        "\n",
        "### Kriterien\n",
        "\n",
        "* Sind die einzelnen Schritte gut dokumentiert und begründet? \n",
        "\n",
        "* Sind die bekannten in der Vorlesung vorgestellten Verfahren sinnvoll eingesetzt worden? \n",
        "    * Wurde begründet wieso ein Verfahren nicht weiter verfolgt wurde? \n",
        "\n",
        "* Wurde eine gute Klassifizierung erreicht? \n",
        "\n",
        "\n",
        "# Aufgabe zur Klassifizierung\n",
        "\n",
        "Im Verzeichnis data-classification finden Sie Daten aus einem MicroCensus\n",
        "* die Datei adult.data enthält Datenobjekte (zum Testen)\n",
        "* die Datei adult.test enthält Datenobjekte (zum Testen)\n",
        "* die Datei adult.names enthält Beschreibungen zu den Daten\n",
        "\n",
        "## Aufgaben \n",
        "\n",
        "Entwickeln Sie ein Klassifizierungsmodell, dass so genau wie möglich vorhersagt, ob eine Person ein Einkommen von mehr als 50000 Doller pro Jahr hat! \n",
        "* Verwenden Sie was sie bisher gelernt haben! \n",
        "* Seien Sie kritisch! \n",
        "\n",
        "\n",
        "## Einlesen der Daten in eine Objekt-Liste"
      ]
    },
    {
      "cell_type": "code",
      "execution_count": null,
      "metadata": {
        "attributes": {
          "classes": [
            "python "
          ],
          "id": ""
        }
      },
      "outputs": [],
      "source": [
        "import pandas as pd\n",
        "\n",
        "df = pd.read_csv('./data-classification/adult.data', header=None, names=[\n",
        "'age', 'workclass', 'fnlwgt', \n",
        "'education', 'education-num', 'marital-status', 'occupation', 'relationship', 'race', \n",
        "'sex' , 'capital-gain' , 'capital-loss',\n",
        "'hours-per-week', 'native-country', \"<50k\"\n",
        "])\n",
        "df.head()"
      ]
    },
    {
      "cell_type": "markdown",
      "metadata": {},
      "source": [
        "## Visualisieren der Daten"
      ]
    },
    {
      "cell_type": "markdown",
      "metadata": {},
      "source": [
        "## Kategorisieren der Daten"
      ]
    },
    {
      "cell_type": "code",
      "execution_count": null,
      "metadata": {},
      "outputs": [],
      "source": [
        "\n"
      ]
    },
    {
      "cell_type": "markdown",
      "metadata": {},
      "source": [
        "## Vorverarbeitung der Daten"
      ]
    },
    {
      "cell_type": "code",
      "execution_count": null,
      "metadata": {},
      "outputs": [],
      "source": [
        "\n",
        "\n",
        "\n"
      ]
    },
    {
      "cell_type": "markdown",
      "metadata": {},
      "source": [
        "## usw. usw. \n",
        "\n",
        "* Fügen Sie über die Jupyter Icons neue Zellen hinzu\n",
        "    * Sie können zwischen Markdown oder Code wählen"
      ]
    }
  ],
  "metadata": {
    "language_info": {
      "name": "python"
    },
    "rise": {
      "autolaunch": true,
      "footer": "<div style=\"padding-left: 300px; font-size:12px\" class='dhbwfooter'>Enterprise Data Science Center - DHBW Mannheim / &copy; Prof. Dr. Kornmayer</div>",
      "scroll": true
    }
  },
  "nbformat": 4,
  "nbformat_minor": 4
}
