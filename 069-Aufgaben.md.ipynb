{
  "cells": [
    {
      "cell_type": "markdown",
      "metadata": {
        "slideshow": {
          "slide_type": "slide"
        }
      },
      "source": [
        "# Wichtig: \n",
        "\n",
        "in der Vorlesung besprochen!  \n",
        "\n",
        "* Diese Aufgabe wird als Team Projekt bewertet. (max. 3 Teilnehmer) \n",
        "* Die hier erreichten Punkte gehen zu 20% in Klausur-Bewertung ein.\n",
        "\n",
        "## Teilnehmer\n",
        "\n",
        "* Geben Sie hier im Dokument die Namen der Teilnehmer an! \n",
        "\n",
        "Teilnehmer: \n",
        "* Sebastian Trauth\n",
        "* Henrik Kaltenbach\n",
        "* ...\n",
        "\n",
        "### Abgabe\n",
        "\n",
        "* Die Abgabe erfolgt über Moodle\n",
        "\n",
        "* Abzugeben ist ein jupyter Notebook mit\n",
        "    * Text, der beschreibt was und wieso sie die einzelnen Analyse-Schritte durchführen \n",
        "    * Pythoncode, der die einzelnen Schritte durchführt\n",
        "    * eine Zusammenfassung am Ende\n",
        "\n",
        "\n",
        "\n",
        "* Sie können neue Zellen mit Hilfe der Jupyter-Icons hinzufügen\n",
        "    * Sie können zwischen Markdown oder Code wählen \n",
        "\n",
        "* Export des Jupyter Notebooks\n",
        "    * save as --> ipynb\n",
        "\n",
        "* Das Jupyter Notebook zur Deadline in Moodle hochladen! \n",
        "    * der Name des JupyterNotebooks enthält auch die Namen der Teilnehmer\n",
        "\n",
        "### Kriterien\n",
        "\n",
        "* Sind die einzelnen Schritte gut dokumentiert und begründet? \n",
        "\n",
        "* Sind die bekannten in der Vorlesung vorgestellten Verfahren sinnvoll eingesetzt worden? \n",
        "    * Wurde begründet wieso ein Verfahren nicht weiter verfolgt wurde? \n",
        "\n",
        "* Wurde eine gute Klassifizierung erreicht? \n",
        "\n",
        "\n",
        "# Aufgabe zur Klassifizierung\n",
        "\n",
        "Im Verzeichnis data-classification finden Sie Daten aus einem MicroCensus\n",
        "* die Datei adult.data enthält Datenobjekte (zum Testen)\n",
        "* die Datei adult.test enthält Datenobjekte (zum Testen)\n",
        "* die Datei adult.names enthält Beschreibungen zu den Daten\n",
        "\n",
        "## Aufgaben \n",
        "\n",
        "Entwickeln Sie ein Klassifizierungsmodell, dass so genau wie möglich vorhersagt, ob eine Person ein Einkommen von mehr als 50000 Doller pro Jahr hat! \n",
        "* Verwenden Sie was sie bisher gelernt haben! \n",
        "* Seien Sie kritisch! \n",
        "\n",
        "\n",
        "## Einlesen der Daten in eine Objekt-Liste"
      ]
    },
    {
      "cell_type": "code",
      "execution_count": 1,
      "metadata": {
        "attributes": {
          "classes": [
            "python "
          ],
          "id": ""
        }
      },
      "outputs": [
        {
          "data": {
            "text/html": [
              "<div>\n",
              "<style scoped>\n",
              "    .dataframe tbody tr th:only-of-type {\n",
              "        vertical-align: middle;\n",
              "    }\n",
              "\n",
              "    .dataframe tbody tr th {\n",
              "        vertical-align: top;\n",
              "    }\n",
              "\n",
              "    .dataframe thead th {\n",
              "        text-align: right;\n",
              "    }\n",
              "</style>\n",
              "<table border=\"1\" class=\"dataframe\">\n",
              "  <thead>\n",
              "    <tr style=\"text-align: right;\">\n",
              "      <th></th>\n",
              "      <th>age</th>\n",
              "      <th>workclass</th>\n",
              "      <th>fnlwgt</th>\n",
              "      <th>education</th>\n",
              "      <th>education-num</th>\n",
              "      <th>marital-status</th>\n",
              "      <th>occupation</th>\n",
              "      <th>relationship</th>\n",
              "      <th>race</th>\n",
              "      <th>sex</th>\n",
              "      <th>capital-gain</th>\n",
              "      <th>capital-loss</th>\n",
              "      <th>hours-per-week</th>\n",
              "      <th>native-country</th>\n",
              "      <th>&lt;50k</th>\n",
              "    </tr>\n",
              "  </thead>\n",
              "  <tbody>\n",
              "    <tr>\n",
              "      <th>0</th>\n",
              "      <td>39</td>\n",
              "      <td>State-gov</td>\n",
              "      <td>77516</td>\n",
              "      <td>Bachelors</td>\n",
              "      <td>13</td>\n",
              "      <td>Never-married</td>\n",
              "      <td>Adm-clerical</td>\n",
              "      <td>Not-in-family</td>\n",
              "      <td>White</td>\n",
              "      <td>Male</td>\n",
              "      <td>2174</td>\n",
              "      <td>0</td>\n",
              "      <td>40</td>\n",
              "      <td>United-States</td>\n",
              "      <td>&lt;=50K</td>\n",
              "    </tr>\n",
              "    <tr>\n",
              "      <th>1</th>\n",
              "      <td>50</td>\n",
              "      <td>Self-emp-not-inc</td>\n",
              "      <td>83311</td>\n",
              "      <td>Bachelors</td>\n",
              "      <td>13</td>\n",
              "      <td>Married-civ-spouse</td>\n",
              "      <td>Exec-managerial</td>\n",
              "      <td>Husband</td>\n",
              "      <td>White</td>\n",
              "      <td>Male</td>\n",
              "      <td>0</td>\n",
              "      <td>0</td>\n",
              "      <td>13</td>\n",
              "      <td>United-States</td>\n",
              "      <td>&lt;=50K</td>\n",
              "    </tr>\n",
              "    <tr>\n",
              "      <th>2</th>\n",
              "      <td>38</td>\n",
              "      <td>Private</td>\n",
              "      <td>215646</td>\n",
              "      <td>HS-grad</td>\n",
              "      <td>9</td>\n",
              "      <td>Divorced</td>\n",
              "      <td>Handlers-cleaners</td>\n",
              "      <td>Not-in-family</td>\n",
              "      <td>White</td>\n",
              "      <td>Male</td>\n",
              "      <td>0</td>\n",
              "      <td>0</td>\n",
              "      <td>40</td>\n",
              "      <td>United-States</td>\n",
              "      <td>&lt;=50K</td>\n",
              "    </tr>\n",
              "    <tr>\n",
              "      <th>3</th>\n",
              "      <td>53</td>\n",
              "      <td>Private</td>\n",
              "      <td>234721</td>\n",
              "      <td>11th</td>\n",
              "      <td>7</td>\n",
              "      <td>Married-civ-spouse</td>\n",
              "      <td>Handlers-cleaners</td>\n",
              "      <td>Husband</td>\n",
              "      <td>Black</td>\n",
              "      <td>Male</td>\n",
              "      <td>0</td>\n",
              "      <td>0</td>\n",
              "      <td>40</td>\n",
              "      <td>United-States</td>\n",
              "      <td>&lt;=50K</td>\n",
              "    </tr>\n",
              "    <tr>\n",
              "      <th>4</th>\n",
              "      <td>28</td>\n",
              "      <td>Private</td>\n",
              "      <td>338409</td>\n",
              "      <td>Bachelors</td>\n",
              "      <td>13</td>\n",
              "      <td>Married-civ-spouse</td>\n",
              "      <td>Prof-specialty</td>\n",
              "      <td>Wife</td>\n",
              "      <td>Black</td>\n",
              "      <td>Female</td>\n",
              "      <td>0</td>\n",
              "      <td>0</td>\n",
              "      <td>40</td>\n",
              "      <td>Cuba</td>\n",
              "      <td>&lt;=50K</td>\n",
              "    </tr>\n",
              "  </tbody>\n",
              "</table>\n",
              "</div>"
            ],
            "text/plain": [
              "   age          workclass  fnlwgt   education  education-num  \\\n",
              "0   39          State-gov   77516   Bachelors             13   \n",
              "1   50   Self-emp-not-inc   83311   Bachelors             13   \n",
              "2   38            Private  215646     HS-grad              9   \n",
              "3   53            Private  234721        11th              7   \n",
              "4   28            Private  338409   Bachelors             13   \n",
              "\n",
              "        marital-status          occupation    relationship    race      sex  \\\n",
              "0        Never-married        Adm-clerical   Not-in-family   White     Male   \n",
              "1   Married-civ-spouse     Exec-managerial         Husband   White     Male   \n",
              "2             Divorced   Handlers-cleaners   Not-in-family   White     Male   \n",
              "3   Married-civ-spouse   Handlers-cleaners         Husband   Black     Male   \n",
              "4   Married-civ-spouse      Prof-specialty            Wife   Black   Female   \n",
              "\n",
              "   capital-gain  capital-loss  hours-per-week  native-country    <50k  \n",
              "0          2174             0              40   United-States   <=50K  \n",
              "1             0             0              13   United-States   <=50K  \n",
              "2             0             0              40   United-States   <=50K  \n",
              "3             0             0              40   United-States   <=50K  \n",
              "4             0             0              40            Cuba   <=50K  "
            ]
          },
          "execution_count": 1,
          "metadata": {},
          "output_type": "execute_result"
        }
      ],
      "source": [
        "import pandas as pd\n",
        "\n",
        "df = pd.read_csv('./data-classification/adult.data', header=None, names=[\n",
        "'age', 'workclass', 'fnlwgt', \n",
        "'education', 'education-num', 'marital-status', 'occupation', 'relationship', 'race', \n",
        "'sex' , 'capital-gain' , 'capital-loss',\n",
        "'hours-per-week', 'native-country', \"<50k\"\n",
        "])\n",
        "df.head()"
      ]
    },
    {
      "cell_type": "markdown",
      "metadata": {},
      "source": [
        "## Visualisieren der Daten"
      ]
    },
    {
      "cell_type": "markdown",
      "metadata": {},
      "source": [
        "## Kategorisieren der Daten"
      ]
    },
    {
      "cell_type": "code",
      "execution_count": null,
      "metadata": {},
      "outputs": [],
      "source": [
        "\n"
      ]
    },
    {
      "cell_type": "markdown",
      "metadata": {},
      "source": [
        "## Vorverarbeitung der Daten"
      ]
    },
    {
      "cell_type": "code",
      "execution_count": null,
      "metadata": {},
      "outputs": [],
      "source": [
        "\n",
        "\n",
        "\n"
      ]
    },
    {
      "cell_type": "markdown",
      "metadata": {},
      "source": [
        "## usw. usw. \n",
        "\n",
        "* Fügen Sie über die Jupyter Icons neue Zellen hinzu\n",
        "    * Sie können zwischen Markdown oder Code wählen"
      ]
    }
  ],
  "metadata": {
    "interpreter": {
      "hash": "b89b5cfaba6639976dc87ff2fec6d58faec662063367e2c229c520fe71072417"
    },
    "kernelspec": {
      "display_name": "Python 3.10.0 64-bit",
      "language": "python",
      "name": "python3"
    },
    "language_info": {
      "codemirror_mode": {
        "name": "ipython",
        "version": 3
      },
      "file_extension": ".py",
      "mimetype": "text/x-python",
      "name": "python",
      "nbconvert_exporter": "python",
      "pygments_lexer": "ipython3",
      "version": "3.10.0"
    },
    "rise": {
      "autolaunch": true,
      "footer": "<div style=\"padding-left: 300px; font-size:12px\" class='dhbwfooter'>Enterprise Data Science Center - DHBW Mannheim / &copy; Prof. Dr. Kornmayer</div>",
      "scroll": true
    }
  },
  "nbformat": 4,
  "nbformat_minor": 4
}
