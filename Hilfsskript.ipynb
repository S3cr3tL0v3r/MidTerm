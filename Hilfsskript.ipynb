{
 "cells": [
  {
   "cell_type": "code",
   "execution_count": 5,
   "metadata": {},
   "outputs": [
    {
     "name": "stdout",
     "output_type": "stream",
     "text": [
      "Read train data...\n",
      "Read test data...\n",
      "Train data: (32561, 15)\n",
      "Test data: (16281, 15)\n"
     ]
    }
   ],
   "source": [
    "import pandas as pd\n",
    "\n",
    "labels = ['age', 'workclass', 'fnlwgt', 'education', 'education-num', 'marital-status', 'occupation', 'relationship', 'race', 'sex' , 'capital-gain' , 'capital-loss', 'hours-per-week', 'native-country', '<50k']\n",
    "\n",
    "print('Read train data...')\n",
    "df_train: pd.DataFrame = pd.read_csv('./data-classification/adult.data', sep=', ', engine='python', header=None, names=labels)\n",
    "print('Read test data...')\n",
    "df_test: pd.DataFrame = pd.read_csv('./data-classification/adult.test', sep=', ', engine='python', header=None, names=labels)\n",
    "df_test.drop(index=0, inplace=True)\n",
    "\n",
    "print('Train data: ' + str(df_train.shape))\n",
    "print('Test data: ' + str(df_test.shape))"
   ]
  },
  {
   "cell_type": "code",
   "execution_count": 6,
   "metadata": {},
   "outputs": [],
   "source": [
    "def isNumber(val):\n",
    "    return type(val) == int or type(val) == float\n",
    "\n",
    "def hasWhiteSpace(val):\n",
    "    return val[0] == ' ' or val[-1] == ' '\n",
    "\n",
    "def checkNumber(column, header):\n",
    "    print(header + ' begin')\n",
    "    for val in column:\n",
    "        if not isNumber(val):\n",
    "            print('\\t' + str(type(val)))\n",
    "            break\n",
    "    print(header + ' end')\n",
    "\n",
    "def countNAsInCol(dataFrame: pd.DataFrame):\n",
    "    for val in dataFrame:\n",
    "        print(val)\n",
    "\n",
    "def checkSpace(column, header):\n",
    "    print(header + ' begin')\n",
    "    for val in column:\n",
    "        count = 0\n",
    "        if hasWhiteSpace(val):\n",
    "            print(str(count) + ': \\'' + str(val) + '\\'')\n",
    "        count += 1\n",
    "    print(header + ' end')\n",
    "\n",
    "def numCol(df):\n",
    "    title = 'age'\n",
    "    checkNumber(df[title], title)\n",
    "    title = 'fnlwgt'\n",
    "    checkNumber(df[title], title)\n",
    "    title = 'education-num'\n",
    "    checkNumber(df[title], title)\n",
    "    title = 'capital-gain'\n",
    "    checkNumber(df[title], title)\n",
    "    title = 'capital-loss'\n",
    "    checkNumber(df[title], title)\n",
    "    title = 'hours-per-week'\n",
    "    checkNumber(df[title], title)\n",
    "\n",
    "def wsCol(df):\n",
    "    title = 'workclass'\n",
    "    checkSpace(df[title], title)\n",
    "    title = 'education'\n",
    "    checkSpace(df[title], title)\n",
    "    title = 'marital-status'\n",
    "    checkSpace(df[title], title)\n",
    "    title = 'occupation'\n",
    "    checkSpace(df[title], title)\n",
    "    title = 'relationship'\n",
    "    checkSpace(df[title], title)\n",
    "    title = 'race'\n",
    "    checkSpace(df[title], title)\n",
    "    title = 'sex'\n",
    "    checkSpace(df[title], title)\n",
    "    title = 'native-country'\n",
    "    checkSpace(df[title], title)\n",
    "    title = '<50k'\n",
    "    checkSpace(df[title], title)"
   ]
  },
  {
   "cell_type": "code",
   "execution_count": 7,
   "metadata": {},
   "outputs": [],
   "source": [
    "def prepareData(dataFrame: pd.DataFrame):\n",
    "    #1 Ungültige Einträge entfernen\n",
    "    dataFrame.replace(to_replace='?', value=pd.NaT, inplace=True)\n",
    "    dataFrame.replace(to_replace='None', value=pd.NaT, inplace=True)\n",
    "    dataFrame.dropna(inplace=True)\n",
    "\n",
    "    #2 Unterschiedliche Datentypen\n",
    "    dataFrame['age'] = pd.to_numeric(dataFrame['age'], errors='coerce')\n",
    "    \n",
    "    #3 Formatierung und Satzzeichen\n",
    "    dataFrame.replace(to_replace='<=50K.', value='<=50K', inplace=True)\n",
    "    dataFrame.replace(to_replace='>50K.', value='>50K', inplace=True)\n",
    "\n",
    "    #4 Duplikate und Redundanzen\n",
    "    if 'education' in dataFrame.columns:\n",
    "        dataFrame.drop(labels=['education'], axis=1, inplace=True)\n",
    "    dataFrame.drop_duplicates(inplace=True)\n",
    "    \n",
    "    #5 Ungenaue Daten entfernen\n",
    "    if 'fnlwgt' in dataFrame.columns:\n",
    "        dataFrame.drop(labels=['fnlwgt'], axis=1, inplace=True)\n",
    "\n",
    "    #6 String mapping\n",
    "    dataFrame.replace(to_replace='<=50K', value='0', inplace=True)\n",
    "    dataFrame.replace(to_replace='>50K', value='1', inplace=True)\n",
    "    dataFrame.replace(to_replace='Male', value='0', inplace=True)\n",
    "    dataFrame.replace(to_replace='Female', value='1', inplace=True)\n",
    "\n",
    "    return pd.get_dummies(dataFrame)"
   ]
  },
  {
   "cell_type": "code",
   "execution_count": 8,
   "metadata": {},
   "outputs": [
    {
     "name": "stdout",
     "output_type": "stream",
     "text": [
      "Duplikate: 24\n"
     ]
    }
   ],
   "source": [
    "# print('++ Training data ++')\n",
    "# print('- Checking numeric values')\n",
    "# numCol(df_train)\n",
    "# print('- Checking white spaces')\n",
    "# wsCol(df_train)\n",
    "# print('++ Test data ++')\n",
    "# print('- Checking numeric values')\n",
    "# numCol(df_test)\n",
    "# print('- Checking white spaces')\n",
    "# wsCol(df_test)\n",
    "\n",
    "liste = df_train.duplicated()\n",
    "doppelt = 0\n",
    "for b in liste:\n",
    "    if b:\n",
    "        doppelt += 1\n",
    "print('Duplikate: ' + str(doppelt))\n",
    "\n",
    "# df_train_prepared = prepareData(df_train)\n",
    "# print('Train data: ' + str(df_train.shape))\n",
    "# print('Train data prepared: ' + str(df_train_prepared.shape))"
   ]
  }
 ],
 "metadata": {
  "interpreter": {
   "hash": "b89b5cfaba6639976dc87ff2fec6d58faec662063367e2c229c520fe71072417"
  },
  "kernelspec": {
   "display_name": "Python 3.10.0 64-bit",
   "language": "python",
   "name": "python3"
  },
  "language_info": {
   "codemirror_mode": {
    "name": "ipython",
    "version": 3
   },
   "file_extension": ".py",
   "mimetype": "text/x-python",
   "name": "python",
   "nbconvert_exporter": "python",
   "pygments_lexer": "ipython3",
   "version": "3.10.0"
  },
  "orig_nbformat": 4
 },
 "nbformat": 4,
 "nbformat_minor": 2
}
