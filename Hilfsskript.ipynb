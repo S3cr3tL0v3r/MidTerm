{
 "cells": [
  {
   "cell_type": "code",
   "execution_count": 17,
   "metadata": {},
   "outputs": [
    {
     "name": "stdout",
     "output_type": "stream",
     "text": [
      "Read train...\n",
      "Read test...\n"
     ]
    }
   ],
   "source": [
    "import pandas as pd\n",
    "\n",
    "print('Read train...')\n",
    "df_train: pd.DataFrame = pd.read_csv('./data-classification/adult.data', sep=', ', engine='python', header=None, names=[\n",
    "'age', 'workclass', 'fnlwgt', \n",
    "'education', 'education-num', 'marital-status', 'occupation', 'relationship', 'race', \n",
    "'sex' , 'capital-gain' , 'capital-loss',\n",
    "'hours-per-week', 'native-country', \"<50k\"\n",
    "])\n",
    "\n",
    "print('Read test...')\n",
    "df_test: pd.DataFrame = pd.read_csv('./data-classification/adult.test', sep=', ', engine='python', header=None, names=[\n",
    "'age', 'workclass', 'fnlwgt', \n",
    "'education', 'education-num', 'marital-status', 'occupation', 'relationship', 'race', \n",
    "'sex' , 'capital-gain' , 'capital-loss',\n",
    "'hours-per-week', 'native-country', \"<50k\"\n",
    "])\n",
    "df_test.drop(index=0, inplace=True)"
   ]
  },
  {
   "cell_type": "code",
   "execution_count": 18,
   "metadata": {},
   "outputs": [],
   "source": [
    "def isNumber(val):\n",
    "    return type(val) == int or type(val) == float\n",
    "\n",
    "def hasWhiteSpace(val):\n",
    "    return val[0] == ' ' or val[-1] == ' '\n",
    "\n",
    "def checkNumber(column, header):\n",
    "    print(header + ' begin')\n",
    "    for val in column:\n",
    "        if not isNumber(val):\n",
    "            print('\\t' + str(type(val)))\n",
    "            break\n",
    "    print(header + ' end')\n",
    "\n",
    "def countNAsInCol(dataFrame: pd.DataFrame):\n",
    "    for val in dataFrame:\n",
    "        print(val)\n",
    "\n",
    "def checkSpace(column, header):\n",
    "    print(header + ' begin')\n",
    "    for val in column:\n",
    "        count = 0\n",
    "        if hasWhiteSpace(val):\n",
    "            print(str(count) + ': \\'' + str(val) + '\\'')\n",
    "        count += 1\n",
    "    print(header + ' end')\n",
    "\n",
    "def numCol(df):\n",
    "    title = 'age'\n",
    "    checkNumber(df[title], title)\n",
    "    title = 'fnlwgt'\n",
    "    checkNumber(df[title], title)\n",
    "    title = 'education-num'\n",
    "    checkNumber(df[title], title)\n",
    "    title = 'capital-gain'\n",
    "    checkNumber(df[title], title)\n",
    "    title = 'capital-loss'\n",
    "    checkNumber(df[title], title)\n",
    "    title = 'hours-per-week'\n",
    "    checkNumber(df[title], title)\n",
    "\n",
    "def wsCol(df):\n",
    "    title = 'workclass'\n",
    "    checkSpace(df[title], title)\n",
    "    title = 'education'\n",
    "    checkSpace(df[title], title)\n",
    "    title = 'marital-status'\n",
    "    checkSpace(df[title], title)\n",
    "    title = 'occupation'\n",
    "    checkSpace(df[title], title)\n",
    "    title = 'relationship'\n",
    "    checkSpace(df[title], title)\n",
    "    title = 'race'\n",
    "    checkSpace(df[title], title)\n",
    "    title = 'sex'\n",
    "    checkSpace(df[title], title)\n",
    "    title = 'native-country'\n",
    "    checkSpace(df[title], title)\n",
    "    title = '<50k'\n",
    "    checkSpace(df[title], title)"
   ]
  },
  {
   "cell_type": "code",
   "execution_count": 24,
   "metadata": {},
   "outputs": [],
   "source": [
    "# print('++ Training data ++')\n",
    "# print('- Checking numeric values')\n",
    "# numCol(df_train)\n",
    "# print('- Checking white spaces')\n",
    "# wsCol(df_train)\n",
    "# print('++ Test data ++')\n",
    "# print('- Checking numeric values')\n",
    "# numCol(df_test)\n",
    "# print('- Checking white spaces')\n",
    "# wsCol(df_test)"
   ]
  }
 ],
 "metadata": {
  "interpreter": {
   "hash": "b89b5cfaba6639976dc87ff2fec6d58faec662063367e2c229c520fe71072417"
  },
  "kernelspec": {
   "display_name": "Python 3.10.0 64-bit",
   "language": "python",
   "name": "python3"
  },
  "language_info": {
   "codemirror_mode": {
    "name": "ipython",
    "version": 3
   },
   "file_extension": ".py",
   "mimetype": "text/x-python",
   "name": "python",
   "nbconvert_exporter": "python",
   "pygments_lexer": "ipython3",
   "version": "3.10.0"
  },
  "orig_nbformat": 4
 },
 "nbformat": 4,
 "nbformat_minor": 2
}
