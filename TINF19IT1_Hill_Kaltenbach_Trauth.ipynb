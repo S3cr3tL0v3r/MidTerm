{
 "cells": [
  {
   "cell_type": "markdown",
   "metadata": {
    "slideshow": {
     "slide_type": "slide"
    }
   },
   "source": [
    "# Wichtig: \n",
    "\n",
    "in der Vorlesung besprochen!  \n",
    "\n",
    "* Diese Aufgabe wird als Team Projekt bewertet. (max. 3 Teilnehmer) \n",
    "* Die hier erreichten Punkte gehen zu 20% in Klausur-Bewertung ein.\n",
    "\n",
    "## Teilnehmer\n",
    "\n",
    "* Geben Sie hier im Dokument die Namen der Teilnehmer an! \n",
    "\n",
    "Teilnehmer: \n",
    "* Sebastian Trauth\n",
    "* Henrik Kaltenbach\n",
    "* Marlene Hill\n",
    "\n",
    "### Abgabe\n",
    "\n",
    "* Die Abgabe erfolgt über Moodle\n",
    "\n",
    "* Abzugeben ist ein jupyter Notebook mit\n",
    "    * Text, der beschreibt was und wieso sie die einzelnen Analyse-Schritte durchführen \n",
    "    * Pythoncode, der die einzelnen Schritte durchführt\n",
    "    * eine Zusammenfassung am Ende\n",
    "\n",
    "* Sie können neue Zellen mit Hilfe der Jupyter-Icons hinzufügen\n",
    "    * Sie können zwischen Markdown oder Code wählen \n",
    "\n",
    "* Export des Jupyter Notebooks\n",
    "    * save as --> ipynb\n",
    "\n",
    "* Das Jupyter Notebook zur Deadline in Moodle hochladen! \n",
    "    * der Name des JupyterNotebooks enthält auch die Namen der Teilnehmer\n",
    "\n",
    "### Kriterien\n",
    "\n",
    "* Sind die einzelnen Schritte gut dokumentiert und begründet? \n",
    "\n",
    "* Sind die bekannten in der Vorlesung vorgestellten Verfahren sinnvoll eingesetzt worden? \n",
    "    * Wurde begründet wieso ein Verfahren nicht weiter verfolgt wurde? \n",
    "\n",
    "* Wurde eine gute Klassifizierung erreicht? \n",
    "\n",
    "# Aufgabe zur Klassifizierung\n",
    "\n",
    "Im Verzeichnis data-classification finden Sie Daten aus einem MicroCensus\n",
    "* die Datei adult.data enthält Datenobjekte (zum Trainieren)\n",
    "* die Datei adult.test enthält Datenobjekte (zum Testen)\n",
    "* die Datei adult.names enthält Beschreibungen zu den Daten\n",
    "\n",
    "## Aufgaben \n",
    "\n",
    "Entwickeln Sie ein Klassifizierungsmodell, dass so genau wie möglich vorhersagt, ob eine Person ein Einkommen von mehr als 50000 Dollar pro Jahr hat!\n",
    "* Verwenden Sie was sie bisher gelernt haben! \n",
    "* Seien Sie kritisch!"
   ]
  },
  {
   "cell_type": "markdown",
   "metadata": {},
   "source": [
    "## Einlesen der Daten in eine Objekt-Liste\n",
    "\n",
    "Es werden die Trainings- und die Testdaten in Objektlisten eingelesen. Ein klar definierter Seperator sorgt für das korrekte Parsen. Die erste Zeile in `adult.test` enthält keinen Daten, sie kann also direkt entfernt werden.\n",
    "Die Trainingsdaten verfügen über 32561 Einträge, die Testdaten über 16281. Beide Datensätze bestehen aus 15 Merkmalen."
   ]
  },
  {
   "cell_type": "code",
   "execution_count": 2,
   "metadata": {
    "attributes": {
     "classes": [
      "python "
     ],
     "id": ""
    }
   },
   "outputs": [
    {
     "name": "stdout",
     "output_type": "stream",
     "text": [
      "Train data: (32561, 15)\n",
      "Test data: (16281, 15)\n"
     ]
    }
   ],
   "source": [
    "import pandas as pd\n",
    "\n",
    "labels = ['age', 'workclass', 'fnlwgt', 'education', 'education-num', 'marital-status', 'occupation', 'relationship', 'race', 'sex' , 'capital-gain' , 'capital-loss', 'hours-per-week', 'native-country', '<50k']\n",
    "\n",
    "df_train: pd.DataFrame = pd.read_csv('./data-classification/adult.data', sep=', ', engine='python', header=None, names=labels)\n",
    "df_test: pd.DataFrame = pd.read_csv('./data-classification/adult.test', sep=', ', engine='python', header=None, names=labels)\n",
    "df_test.drop(index=0, inplace=True)\n",
    "\n",
    "print('Train data: ' + str(df_train.shape))\n",
    "print('Test data: ' + str(df_test.shape))"
   ]
  },
  {
   "cell_type": "code",
   "execution_count": 3,
   "metadata": {},
   "outputs": [
    {
     "data": {
      "text/html": [
       "<div>\n",
       "<style scoped>\n",
       "    .dataframe tbody tr th:only-of-type {\n",
       "        vertical-align: middle;\n",
       "    }\n",
       "\n",
       "    .dataframe tbody tr th {\n",
       "        vertical-align: top;\n",
       "    }\n",
       "\n",
       "    .dataframe thead th {\n",
       "        text-align: right;\n",
       "    }\n",
       "</style>\n",
       "<table border=\"1\" class=\"dataframe\">\n",
       "  <thead>\n",
       "    <tr style=\"text-align: right;\">\n",
       "      <th></th>\n",
       "      <th>age</th>\n",
       "      <th>workclass</th>\n",
       "      <th>fnlwgt</th>\n",
       "      <th>education</th>\n",
       "      <th>education-num</th>\n",
       "      <th>marital-status</th>\n",
       "      <th>occupation</th>\n",
       "      <th>relationship</th>\n",
       "      <th>race</th>\n",
       "      <th>sex</th>\n",
       "      <th>capital-gain</th>\n",
       "      <th>capital-loss</th>\n",
       "      <th>hours-per-week</th>\n",
       "      <th>native-country</th>\n",
       "      <th>&lt;50k</th>\n",
       "    </tr>\n",
       "  </thead>\n",
       "  <tbody>\n",
       "    <tr>\n",
       "      <th>0</th>\n",
       "      <td>39</td>\n",
       "      <td>State-gov</td>\n",
       "      <td>77516</td>\n",
       "      <td>Bachelors</td>\n",
       "      <td>13</td>\n",
       "      <td>Never-married</td>\n",
       "      <td>Adm-clerical</td>\n",
       "      <td>Not-in-family</td>\n",
       "      <td>White</td>\n",
       "      <td>Male</td>\n",
       "      <td>2174</td>\n",
       "      <td>0</td>\n",
       "      <td>40</td>\n",
       "      <td>United-States</td>\n",
       "      <td>&lt;=50K</td>\n",
       "    </tr>\n",
       "    <tr>\n",
       "      <th>1</th>\n",
       "      <td>50</td>\n",
       "      <td>Self-emp-not-inc</td>\n",
       "      <td>83311</td>\n",
       "      <td>Bachelors</td>\n",
       "      <td>13</td>\n",
       "      <td>Married-civ-spouse</td>\n",
       "      <td>Exec-managerial</td>\n",
       "      <td>Husband</td>\n",
       "      <td>White</td>\n",
       "      <td>Male</td>\n",
       "      <td>0</td>\n",
       "      <td>0</td>\n",
       "      <td>13</td>\n",
       "      <td>United-States</td>\n",
       "      <td>&lt;=50K</td>\n",
       "    </tr>\n",
       "    <tr>\n",
       "      <th>2</th>\n",
       "      <td>38</td>\n",
       "      <td>Private</td>\n",
       "      <td>215646</td>\n",
       "      <td>HS-grad</td>\n",
       "      <td>9</td>\n",
       "      <td>Divorced</td>\n",
       "      <td>Handlers-cleaners</td>\n",
       "      <td>Not-in-family</td>\n",
       "      <td>White</td>\n",
       "      <td>Male</td>\n",
       "      <td>0</td>\n",
       "      <td>0</td>\n",
       "      <td>40</td>\n",
       "      <td>United-States</td>\n",
       "      <td>&lt;=50K</td>\n",
       "    </tr>\n",
       "    <tr>\n",
       "      <th>3</th>\n",
       "      <td>53</td>\n",
       "      <td>Private</td>\n",
       "      <td>234721</td>\n",
       "      <td>11th</td>\n",
       "      <td>7</td>\n",
       "      <td>Married-civ-spouse</td>\n",
       "      <td>Handlers-cleaners</td>\n",
       "      <td>Husband</td>\n",
       "      <td>Black</td>\n",
       "      <td>Male</td>\n",
       "      <td>0</td>\n",
       "      <td>0</td>\n",
       "      <td>40</td>\n",
       "      <td>United-States</td>\n",
       "      <td>&lt;=50K</td>\n",
       "    </tr>\n",
       "    <tr>\n",
       "      <th>4</th>\n",
       "      <td>28</td>\n",
       "      <td>Private</td>\n",
       "      <td>338409</td>\n",
       "      <td>Bachelors</td>\n",
       "      <td>13</td>\n",
       "      <td>Married-civ-spouse</td>\n",
       "      <td>Prof-specialty</td>\n",
       "      <td>Wife</td>\n",
       "      <td>Black</td>\n",
       "      <td>Female</td>\n",
       "      <td>0</td>\n",
       "      <td>0</td>\n",
       "      <td>40</td>\n",
       "      <td>Cuba</td>\n",
       "      <td>&lt;=50K</td>\n",
       "    </tr>\n",
       "  </tbody>\n",
       "</table>\n",
       "</div>"
      ],
      "text/plain": [
       "   age         workclass  fnlwgt  education  education-num  \\\n",
       "0   39         State-gov   77516  Bachelors             13   \n",
       "1   50  Self-emp-not-inc   83311  Bachelors             13   \n",
       "2   38           Private  215646    HS-grad              9   \n",
       "3   53           Private  234721       11th              7   \n",
       "4   28           Private  338409  Bachelors             13   \n",
       "\n",
       "       marital-status         occupation   relationship   race     sex  \\\n",
       "0       Never-married       Adm-clerical  Not-in-family  White    Male   \n",
       "1  Married-civ-spouse    Exec-managerial        Husband  White    Male   \n",
       "2            Divorced  Handlers-cleaners  Not-in-family  White    Male   \n",
       "3  Married-civ-spouse  Handlers-cleaners        Husband  Black    Male   \n",
       "4  Married-civ-spouse     Prof-specialty           Wife  Black  Female   \n",
       "\n",
       "   capital-gain  capital-loss  hours-per-week native-country   <50k  \n",
       "0          2174             0              40  United-States  <=50K  \n",
       "1             0             0              13  United-States  <=50K  \n",
       "2             0             0              40  United-States  <=50K  \n",
       "3             0             0              40  United-States  <=50K  \n",
       "4             0             0              40           Cuba  <=50K  "
      ]
     },
     "execution_count": 3,
     "metadata": {},
     "output_type": "execute_result"
    }
   ],
   "source": [
    "df_train.head()"
   ]
  },
  {
   "cell_type": "code",
   "execution_count": 4,
   "metadata": {},
   "outputs": [
    {
     "data": {
      "text/html": [
       "<div>\n",
       "<style scoped>\n",
       "    .dataframe tbody tr th:only-of-type {\n",
       "        vertical-align: middle;\n",
       "    }\n",
       "\n",
       "    .dataframe tbody tr th {\n",
       "        vertical-align: top;\n",
       "    }\n",
       "\n",
       "    .dataframe thead th {\n",
       "        text-align: right;\n",
       "    }\n",
       "</style>\n",
       "<table border=\"1\" class=\"dataframe\">\n",
       "  <thead>\n",
       "    <tr style=\"text-align: right;\">\n",
       "      <th></th>\n",
       "      <th>age</th>\n",
       "      <th>workclass</th>\n",
       "      <th>fnlwgt</th>\n",
       "      <th>education</th>\n",
       "      <th>education-num</th>\n",
       "      <th>marital-status</th>\n",
       "      <th>occupation</th>\n",
       "      <th>relationship</th>\n",
       "      <th>race</th>\n",
       "      <th>sex</th>\n",
       "      <th>capital-gain</th>\n",
       "      <th>capital-loss</th>\n",
       "      <th>hours-per-week</th>\n",
       "      <th>native-country</th>\n",
       "      <th>&lt;50k</th>\n",
       "    </tr>\n",
       "  </thead>\n",
       "  <tbody>\n",
       "    <tr>\n",
       "      <th>1</th>\n",
       "      <td>25</td>\n",
       "      <td>Private</td>\n",
       "      <td>226802.0</td>\n",
       "      <td>11th</td>\n",
       "      <td>7.0</td>\n",
       "      <td>Never-married</td>\n",
       "      <td>Machine-op-inspct</td>\n",
       "      <td>Own-child</td>\n",
       "      <td>Black</td>\n",
       "      <td>Male</td>\n",
       "      <td>0.0</td>\n",
       "      <td>0.0</td>\n",
       "      <td>40.0</td>\n",
       "      <td>United-States</td>\n",
       "      <td>&lt;=50K.</td>\n",
       "    </tr>\n",
       "    <tr>\n",
       "      <th>2</th>\n",
       "      <td>38</td>\n",
       "      <td>Private</td>\n",
       "      <td>89814.0</td>\n",
       "      <td>HS-grad</td>\n",
       "      <td>9.0</td>\n",
       "      <td>Married-civ-spouse</td>\n",
       "      <td>Farming-fishing</td>\n",
       "      <td>Husband</td>\n",
       "      <td>White</td>\n",
       "      <td>Male</td>\n",
       "      <td>0.0</td>\n",
       "      <td>0.0</td>\n",
       "      <td>50.0</td>\n",
       "      <td>United-States</td>\n",
       "      <td>&lt;=50K.</td>\n",
       "    </tr>\n",
       "    <tr>\n",
       "      <th>3</th>\n",
       "      <td>28</td>\n",
       "      <td>Local-gov</td>\n",
       "      <td>336951.0</td>\n",
       "      <td>Assoc-acdm</td>\n",
       "      <td>12.0</td>\n",
       "      <td>Married-civ-spouse</td>\n",
       "      <td>Protective-serv</td>\n",
       "      <td>Husband</td>\n",
       "      <td>White</td>\n",
       "      <td>Male</td>\n",
       "      <td>0.0</td>\n",
       "      <td>0.0</td>\n",
       "      <td>40.0</td>\n",
       "      <td>United-States</td>\n",
       "      <td>&gt;50K.</td>\n",
       "    </tr>\n",
       "    <tr>\n",
       "      <th>4</th>\n",
       "      <td>44</td>\n",
       "      <td>Private</td>\n",
       "      <td>160323.0</td>\n",
       "      <td>Some-college</td>\n",
       "      <td>10.0</td>\n",
       "      <td>Married-civ-spouse</td>\n",
       "      <td>Machine-op-inspct</td>\n",
       "      <td>Husband</td>\n",
       "      <td>Black</td>\n",
       "      <td>Male</td>\n",
       "      <td>7688.0</td>\n",
       "      <td>0.0</td>\n",
       "      <td>40.0</td>\n",
       "      <td>United-States</td>\n",
       "      <td>&gt;50K.</td>\n",
       "    </tr>\n",
       "    <tr>\n",
       "      <th>5</th>\n",
       "      <td>18</td>\n",
       "      <td>?</td>\n",
       "      <td>103497.0</td>\n",
       "      <td>Some-college</td>\n",
       "      <td>10.0</td>\n",
       "      <td>Never-married</td>\n",
       "      <td>?</td>\n",
       "      <td>Own-child</td>\n",
       "      <td>White</td>\n",
       "      <td>Female</td>\n",
       "      <td>0.0</td>\n",
       "      <td>0.0</td>\n",
       "      <td>30.0</td>\n",
       "      <td>United-States</td>\n",
       "      <td>&lt;=50K.</td>\n",
       "    </tr>\n",
       "  </tbody>\n",
       "</table>\n",
       "</div>"
      ],
      "text/plain": [
       "  age  workclass    fnlwgt     education  education-num      marital-status  \\\n",
       "1  25    Private  226802.0          11th            7.0       Never-married   \n",
       "2  38    Private   89814.0       HS-grad            9.0  Married-civ-spouse   \n",
       "3  28  Local-gov  336951.0    Assoc-acdm           12.0  Married-civ-spouse   \n",
       "4  44    Private  160323.0  Some-college           10.0  Married-civ-spouse   \n",
       "5  18          ?  103497.0  Some-college           10.0       Never-married   \n",
       "\n",
       "          occupation relationship   race     sex  capital-gain  capital-loss  \\\n",
       "1  Machine-op-inspct    Own-child  Black    Male           0.0           0.0   \n",
       "2    Farming-fishing      Husband  White    Male           0.0           0.0   \n",
       "3    Protective-serv      Husband  White    Male           0.0           0.0   \n",
       "4  Machine-op-inspct      Husband  Black    Male        7688.0           0.0   \n",
       "5                  ?    Own-child  White  Female           0.0           0.0   \n",
       "\n",
       "   hours-per-week native-country    <50k  \n",
       "1            40.0  United-States  <=50K.  \n",
       "2            50.0  United-States  <=50K.  \n",
       "3            40.0  United-States   >50K.  \n",
       "4            40.0  United-States   >50K.  \n",
       "5            30.0  United-States  <=50K.  "
      ]
     },
     "execution_count": 4,
     "metadata": {},
     "output_type": "execute_result"
    }
   ],
   "source": [
    "df_test.head()"
   ]
  },
  {
   "cell_type": "markdown",
   "metadata": {},
   "source": [
    "## Vorbereitung der Daten\n",
    "\n",
    "Die Daten sind nicht direkt so nutzbar.\n",
    "Sie enthalten einige Fehler die entfernt werden müssen.\n",
    "Außerdem können die Merkmale in dem Format in dem sie vorliegen nicht verarbeitet werden und müssen verändert werden.\n",
    "Diese Schritte werden hier beschrieben und umgesetzt.\n",
    "Diese Schritte müssen auf die Test- wie auch auf die Trainingsdaten angewendet werden."
   ]
  },
  {
   "cell_type": "markdown",
   "metadata": {},
   "source": [
    "### 1. Fehlerhafte Daten\n",
    "\n",
    "In den Test- und Trainingsdaten sind Datensätze gefunden worden, die \"?\" und \"NaN\" beinhalten.\n",
    "Diese Datensätze werden ausgeschlossen und können somit entfernt werden.\n",
    "Das ist durch die große Zahl an vorhandenen Daten akzeptabel.\n",
    "Durch nominale Werte wie z.B. die Länderdaten ist als Alternative die Mittelwertbildung nicht sinnvoll."
   ]
  },
  {
   "cell_type": "markdown",
   "metadata": {},
   "source": [
    "### 2. Unterschiedlichen Datentypen\n",
    "\n",
    "Die Spalte \"Age\" beinhaltet teilweise Strings und teilweise Integer.\n",
    "Um mit dieser Spalte arbeiten zu können, müssen alle Werte in dieser Spalte in Integer umgewandelt werden.\n",
    "Außerdem gibt es einen Unterschied des Datentyps in den Spalten \"capital-gain\",\n",
    "\"capital-loss\" und \"hours-per-week\" in den Testdaten im Gegensatz zu den Trainingsdaten.\n",
    "In den Testdaten liegen diese Spalten als Double vor. In den Trainingsdaten als Integer."
   ]
  },
  {
   "cell_type": "code",
   "execution_count": 6,
   "metadata": {},
   "outputs": [
    {
     "name": "stdout",
     "output_type": "stream",
     "text": [
      "Train data\n",
      "age                int64\n",
      "workclass         object\n",
      "fnlwgt             int64\n",
      "education         object\n",
      "education-num      int64\n",
      "marital-status    object\n",
      "occupation        object\n",
      "relationship      object\n",
      "race              object\n",
      "sex               object\n",
      "capital-gain       int64\n",
      "capital-loss       int64\n",
      "hours-per-week     int64\n",
      "native-country    object\n",
      "<50k              object\n",
      "dtype: object\n",
      "\n",
      "Test data\n",
      "age                object\n",
      "workclass          object\n",
      "fnlwgt            float64\n",
      "education          object\n",
      "education-num     float64\n",
      "marital-status     object\n",
      "occupation         object\n",
      "relationship       object\n",
      "race               object\n",
      "sex                object\n",
      "capital-gain      float64\n",
      "capital-loss      float64\n",
      "hours-per-week    float64\n",
      "native-country     object\n",
      "<50k               object\n",
      "dtype: object\n"
     ]
    }
   ],
   "source": [
    "# Datentypen der Spalten\n",
    "print('Train data\\n' + str(df_train.dtypes))\n",
    "print('\\nTest data\\n' + str(df_test.dtypes))"
   ]
  },
  {
   "cell_type": "markdown",
   "metadata": {},
   "source": [
    "### 3. Formatierung\n",
    "\n",
    "Bei der Betrachtung der Daten fällt auf, dass die Formatierung der letzten Spalte \"<50k\" nicht konsistent ist.\n",
    "Nach \">50K\" oder \"<=50K\" ist ein zusätzlicher \".\" vorhanden.\n",
    "Dieser lässt sich durch eine Ersetzung beseitigen (replace).\n",
    "\n",
    "Mögliche Whitespaces entfernen am Anfang und am Ende entfernen (strip).\n"
   ]
  },
  {
   "cell_type": "markdown",
   "metadata": {},
   "source": [
    "### 4. Ungenaue Daten\n",
    "\n",
    "Die Spalte \"fnlwgt\" wird nicht einheitlich bestimmt und kann aufgrund ihrer Inkonsistenz nicht als Grundlage dienen. Dementsprechend wird sie entfernt."
   ]
  },
  {
   "cell_type": "markdown",
   "metadata": {},
   "source": [
    "### 5. Duplikate\n",
    "\n",
    "Der Datensatz enthält redundante Einträge.\n",
    "Z.B. sind die Daten in der Spalte \"Education\" bereits als Dictionary in der Spalte \"Education-Number\" hinterlegt.\n",
    "Das macht die Spalte \"Education\" überflüssig und sie kann entfernt werden.\n",
    "Es wird natürlich auch nach doppelten Zeilen in den Daten gesucht, die entfernt werden müssen.\n",
    "Bei Duplikaten kann die Gewichtung verändert werden, die das Modell zu spezifisch trainieren.\n"
   ]
  },
  {
   "cell_type": "code",
   "execution_count": 7,
   "metadata": {},
   "outputs": [
    {
     "name": "stdout",
     "output_type": "stream",
     "text": [
      "Duplikate: 24\n"
     ]
    }
   ],
   "source": [
    "liste = df_train.duplicated()\n",
    "doppelt = 0\n",
    "for b in liste:\n",
    "    if b:\n",
    "        doppelt += 1\n",
    "print('Duplikate: ' + str(doppelt))"
   ]
  },
  {
   "cell_type": "markdown",
   "metadata": {},
   "source": [
    "### 6. Merkmale auf numerische Werte mappen\n",
    "\n",
    "Die Algorithmen, die zum Trainieren eines MachineLearning-Modells verwendet werden können nur mit Zahlen arbeiten.\n",
    "Zum Beispiel \"Education-Number\", \"Age\", \"capital-gain\", \"capital-loss\" und \"hours-per-week\" sind bereits ordinale Werte (mit innerer Ordnung).\n",
    "Die restlichen Daten wie zum Beispiel \"workclass\" oder \"occupation\"\tsind nominale.\n",
    "\n",
    "Für die Spalte \"Sex\" lassen sich die nominalen Werte sogar in ordinale verändern.\n",
    "Dabei wird \"female\" durch 1 und \"male\" durch 0 ersetzt.\n",
    "\n",
    "Die letzte Spalte \"<50k\" wird auch für 0 und 1 dargestellt.\n",
    "\"<=50K\" wird durch 0 und \">50K\" durch 1 ersetzt.\n",
    "\n",
    "Ein OneHotEncoder wird benutzt, um die restlichen nominalen Werte numerisch darzustellen.\n",
    "Dafür werden die Werte in Matrizen verwandelt. So sind alle Werte nur noch mit 1 und 0 darstellbar.\n",
    "Der Encoder erstellt eine Liste aller möglichen Einträge und erzeugt so viele neue Spalten, wie die Liste Einträge hat.\n",
    "Für jede ursprüngliche Spalte, die den Namen der Spalte als Eintrag hat, wird für jede Spalte in der Zeile eine 1 eingetragen."
   ]
  },
  {
   "cell_type": "markdown",
   "metadata": {
    "pycharm": {
     "name": "#%% md\n"
    }
   },
   "source": [
    "Die Vorbereitung wird in der folgenden Funktion dargestellt:"
   ]
  },
  {
   "cell_type": "code",
   "execution_count": 8,
   "metadata": {},
   "outputs": [],
   "source": [
    "def prepareData(dataFrame: pd.DataFrame):\n",
    "    #1 Ungültige Einträge entfernen\n",
    "    dataFrame.replace(to_replace='?', value=pd.NaT, inplace=True)\n",
    "    dataFrame.replace(to_replace='None', value=pd.NaT, inplace=True)\n",
    "    dataFrame.dropna(inplace=True)\n",
    "\n",
    "    #2 Unterschiedliche Datentypen\n",
    "    dataFrame['age'] = pd.to_numeric(dataFrame['age'], errors='coerce')\n",
    "    \n",
    "    #3 Formatierung und Satzzeichen\n",
    "    dataFrame.replace(to_replace='<=50K.', value='<=50K', inplace=True)\n",
    "    dataFrame.replace(to_replace='>50K.', value='>50K', inplace=True)\n",
    "    \n",
    "    #5 Ungenaue Daten entfernen\n",
    "    if 'fnlwgt' in dataFrame.columns:\n",
    "        dataFrame.drop(labels=['fnlwgt'], axis=1, inplace=True)\n",
    "\n",
    "    #4 Duplikate und Redundanzen\n",
    "    if 'education' in dataFrame.columns:\n",
    "        dataFrame.drop(labels=['education'], axis=1, inplace=True)\n",
    "    dataFrame.drop_duplicates(inplace=True)\n",
    "\n",
    "    #6 String mapping\n",
    "    dataFrame.replace(to_replace='<=50K', value=0, inplace=True)\n",
    "    dataFrame.replace(to_replace='>50K', value=1, inplace=True)\n",
    "    dataFrame.replace(to_replace='Male', value=0, inplace=True)\n",
    "    dataFrame.replace(to_replace='Female', value=1, inplace=True)\n",
    "\n",
    "    return pd.get_dummies(dataFrame)"
   ]
  },
  {
   "cell_type": "code",
   "execution_count": 9,
   "metadata": {},
   "outputs": [
    {
     "name": "stdout",
     "output_type": "stream",
     "text": [
      "Train data: (26904, 87)\n",
      "Test data: (14130, 86)\n"
     ]
    },
    {
     "data": {
      "text/html": [
       "<div>\n",
       "<style scoped>\n",
       "    .dataframe tbody tr th:only-of-type {\n",
       "        vertical-align: middle;\n",
       "    }\n",
       "\n",
       "    .dataframe tbody tr th {\n",
       "        vertical-align: top;\n",
       "    }\n",
       "\n",
       "    .dataframe thead th {\n",
       "        text-align: right;\n",
       "    }\n",
       "</style>\n",
       "<table border=\"1\" class=\"dataframe\">\n",
       "  <thead>\n",
       "    <tr style=\"text-align: right;\">\n",
       "      <th></th>\n",
       "      <th>age</th>\n",
       "      <th>education-num</th>\n",
       "      <th>sex</th>\n",
       "      <th>capital-gain</th>\n",
       "      <th>capital-loss</th>\n",
       "      <th>hours-per-week</th>\n",
       "      <th>&lt;50k</th>\n",
       "      <th>workclass_Federal-gov</th>\n",
       "      <th>workclass_Local-gov</th>\n",
       "      <th>workclass_Private</th>\n",
       "      <th>...</th>\n",
       "      <th>native-country_Portugal</th>\n",
       "      <th>native-country_Puerto-Rico</th>\n",
       "      <th>native-country_Scotland</th>\n",
       "      <th>native-country_South</th>\n",
       "      <th>native-country_Taiwan</th>\n",
       "      <th>native-country_Thailand</th>\n",
       "      <th>native-country_Trinadad&amp;Tobago</th>\n",
       "      <th>native-country_United-States</th>\n",
       "      <th>native-country_Vietnam</th>\n",
       "      <th>native-country_Yugoslavia</th>\n",
       "    </tr>\n",
       "  </thead>\n",
       "  <tbody>\n",
       "    <tr>\n",
       "      <th>0</th>\n",
       "      <td>39</td>\n",
       "      <td>13</td>\n",
       "      <td>0</td>\n",
       "      <td>2174</td>\n",
       "      <td>0</td>\n",
       "      <td>40</td>\n",
       "      <td>0</td>\n",
       "      <td>0</td>\n",
       "      <td>0</td>\n",
       "      <td>0</td>\n",
       "      <td>...</td>\n",
       "      <td>0</td>\n",
       "      <td>0</td>\n",
       "      <td>0</td>\n",
       "      <td>0</td>\n",
       "      <td>0</td>\n",
       "      <td>0</td>\n",
       "      <td>0</td>\n",
       "      <td>1</td>\n",
       "      <td>0</td>\n",
       "      <td>0</td>\n",
       "    </tr>\n",
       "    <tr>\n",
       "      <th>1</th>\n",
       "      <td>50</td>\n",
       "      <td>13</td>\n",
       "      <td>0</td>\n",
       "      <td>0</td>\n",
       "      <td>0</td>\n",
       "      <td>13</td>\n",
       "      <td>0</td>\n",
       "      <td>0</td>\n",
       "      <td>0</td>\n",
       "      <td>0</td>\n",
       "      <td>...</td>\n",
       "      <td>0</td>\n",
       "      <td>0</td>\n",
       "      <td>0</td>\n",
       "      <td>0</td>\n",
       "      <td>0</td>\n",
       "      <td>0</td>\n",
       "      <td>0</td>\n",
       "      <td>1</td>\n",
       "      <td>0</td>\n",
       "      <td>0</td>\n",
       "    </tr>\n",
       "    <tr>\n",
       "      <th>2</th>\n",
       "      <td>38</td>\n",
       "      <td>9</td>\n",
       "      <td>0</td>\n",
       "      <td>0</td>\n",
       "      <td>0</td>\n",
       "      <td>40</td>\n",
       "      <td>0</td>\n",
       "      <td>0</td>\n",
       "      <td>0</td>\n",
       "      <td>1</td>\n",
       "      <td>...</td>\n",
       "      <td>0</td>\n",
       "      <td>0</td>\n",
       "      <td>0</td>\n",
       "      <td>0</td>\n",
       "      <td>0</td>\n",
       "      <td>0</td>\n",
       "      <td>0</td>\n",
       "      <td>1</td>\n",
       "      <td>0</td>\n",
       "      <td>0</td>\n",
       "    </tr>\n",
       "    <tr>\n",
       "      <th>3</th>\n",
       "      <td>53</td>\n",
       "      <td>7</td>\n",
       "      <td>0</td>\n",
       "      <td>0</td>\n",
       "      <td>0</td>\n",
       "      <td>40</td>\n",
       "      <td>0</td>\n",
       "      <td>0</td>\n",
       "      <td>0</td>\n",
       "      <td>1</td>\n",
       "      <td>...</td>\n",
       "      <td>0</td>\n",
       "      <td>0</td>\n",
       "      <td>0</td>\n",
       "      <td>0</td>\n",
       "      <td>0</td>\n",
       "      <td>0</td>\n",
       "      <td>0</td>\n",
       "      <td>1</td>\n",
       "      <td>0</td>\n",
       "      <td>0</td>\n",
       "    </tr>\n",
       "    <tr>\n",
       "      <th>4</th>\n",
       "      <td>28</td>\n",
       "      <td>13</td>\n",
       "      <td>1</td>\n",
       "      <td>0</td>\n",
       "      <td>0</td>\n",
       "      <td>40</td>\n",
       "      <td>0</td>\n",
       "      <td>0</td>\n",
       "      <td>0</td>\n",
       "      <td>1</td>\n",
       "      <td>...</td>\n",
       "      <td>0</td>\n",
       "      <td>0</td>\n",
       "      <td>0</td>\n",
       "      <td>0</td>\n",
       "      <td>0</td>\n",
       "      <td>0</td>\n",
       "      <td>0</td>\n",
       "      <td>0</td>\n",
       "      <td>0</td>\n",
       "      <td>0</td>\n",
       "    </tr>\n",
       "  </tbody>\n",
       "</table>\n",
       "<p>5 rows × 87 columns</p>\n",
       "</div>"
      ],
      "text/plain": [
       "   age  education-num  sex  capital-gain  capital-loss  hours-per-week  <50k  \\\n",
       "0   39             13    0          2174             0              40     0   \n",
       "1   50             13    0             0             0              13     0   \n",
       "2   38              9    0             0             0              40     0   \n",
       "3   53              7    0             0             0              40     0   \n",
       "4   28             13    1             0             0              40     0   \n",
       "\n",
       "   workclass_Federal-gov  workclass_Local-gov  workclass_Private  ...  \\\n",
       "0                      0                    0                  0  ...   \n",
       "1                      0                    0                  0  ...   \n",
       "2                      0                    0                  1  ...   \n",
       "3                      0                    0                  1  ...   \n",
       "4                      0                    0                  1  ...   \n",
       "\n",
       "   native-country_Portugal  native-country_Puerto-Rico  \\\n",
       "0                        0                           0   \n",
       "1                        0                           0   \n",
       "2                        0                           0   \n",
       "3                        0                           0   \n",
       "4                        0                           0   \n",
       "\n",
       "   native-country_Scotland  native-country_South  native-country_Taiwan  \\\n",
       "0                        0                     0                      0   \n",
       "1                        0                     0                      0   \n",
       "2                        0                     0                      0   \n",
       "3                        0                     0                      0   \n",
       "4                        0                     0                      0   \n",
       "\n",
       "   native-country_Thailand  native-country_Trinadad&Tobago  \\\n",
       "0                        0                               0   \n",
       "1                        0                               0   \n",
       "2                        0                               0   \n",
       "3                        0                               0   \n",
       "4                        0                               0   \n",
       "\n",
       "   native-country_United-States  native-country_Vietnam  \\\n",
       "0                             1                       0   \n",
       "1                             1                       0   \n",
       "2                             1                       0   \n",
       "3                             1                       0   \n",
       "4                             0                       0   \n",
       "\n",
       "   native-country_Yugoslavia  \n",
       "0                          0  \n",
       "1                          0  \n",
       "2                          0  \n",
       "3                          0  \n",
       "4                          0  \n",
       "\n",
       "[5 rows x 87 columns]"
      ]
     },
     "execution_count": 9,
     "metadata": {},
     "output_type": "execute_result"
    }
   ],
   "source": [
    "df_train_prepared = prepareData(df_train)\n",
    "df_test_prepared = prepareData(df_test)\n",
    "print('Train data: ' + str(df_train_prepared.shape))\n",
    "print('Test data: ' + str(df_test_prepared.shape))\n",
    "df_train_prepared.head()"
   ]
  },
  {
   "cell_type": "markdown",
   "metadata": {},
   "source": [
    "Insgesamt werden 2422 Einträge in den Trainingsdaten und 1226 Einträge in den Testdaten durch die Datenvorbereitung entfernt. Da die Datenmenge groß genug ist, ist das vertretbar."
   ]
  },
  {
   "cell_type": "markdown",
   "metadata": {},
   "source": [
    "Die Spaltenanzahl für Trainings- und Testdaten ist unterschiedlich, es fehlt eine Spalte bei den Testdaten. Dies ist damit zu begründen, dass die Testdaten eine Landesauswahl (Niederlande) nicht haben, welche allerdings für die Trainingsdaten gegeben war. Um dies auszugleichen, werden leere Spalten hinzugefügt und mit dem Titel versehen, welchen die zusätzliche Spalte trägt."
   ]
  },
  {
   "cell_type": "code",
   "execution_count": 10,
   "metadata": {},
   "outputs": [],
   "source": [
    "diffColumns = [x for x in df_train_prepared.columns if x not in df_test_prepared.columns]\n",
    "\n",
    "#hinzufuegen der Anzahl der Werte\n",
    "for category in diffColumns:    \n",
    "    df_test_prepared[category] = len(df_test_prepared) * [0]\n",
    "    \n",
    "df_test_prepared = df_test_prepared[df_train_prepared.columns]"
   ]
  },
  {
   "cell_type": "markdown",
   "metadata": {},
   "source": [
    "## Aufteilung der Daten\n",
    "Um mit den Daten lernen zu können, müssen diese in Ausgangsdaten und Zielwerte unterteilt werden.\n",
    "Die Ausgangswerte (x_train/x_test) beinhalten die Merkmale ohne die Einteilung der Spalte des Gehalts \"<50k\".\n",
    "Die Zielwerte (y_train/y_test) beinhalten die Werte der Spalte \"<50k\"."
   ]
  },
  {
   "cell_type": "code",
   "execution_count": 11,
   "metadata": {
    "collapsed": false,
    "pycharm": {
     "name": "#%%\n"
    }
   },
   "outputs": [],
   "source": [
    "#index der Spalte von <50k als Liste\n",
    "indexTest50K = df_test_prepared.columns.tolist().index('<50k')\n",
    "indexTrain50K = df_train_prepared.columns.tolist().index('<50k')\n",
    "\n",
    "#Aufteilen der Spalten der Testdaten\n",
    "df_test2_prepared = df_test_prepared.copy()\n",
    "df_test2_prepared.drop(labels=['<50k'], axis=1, inplace=True)\n",
    "\n",
    "#Aufteilen der Spalten der Trainingsdaten\n",
    "df_train2_prepared = df_train_prepared.copy()\n",
    "df_train2_prepared.drop(labels=['<50k'], axis=1, inplace=True)\n",
    "\n",
    "#Aufteilen der Spalten der Testdaten\n",
    "df_test2_prepared = df_test_prepared.copy()\n",
    "df_test2_prepared.drop(labels=['<50k'], axis=1, inplace=True)\n",
    "\n",
    "#Erstellen der Datensätze\n",
    "x_test, y_test = df_test2_prepared.values, df_test_prepared.iloc[:, indexTest50K].values\n",
    "x_train, y_train = df_train2_prepared.values, df_train_prepared.iloc[:, indexTrain50K].values"
   ]
  },
  {
   "cell_type": "markdown",
   "metadata": {},
   "source": [
    "## Standardisierung\n",
    "\n",
    "Um die Ergebnisse zu verbessern werden die Daten anschließend noch standardisiert.\n",
    "Dazu wird eine Normalverteilung der Werte genutzt.\n",
    "Dafür wird die Bibliothek \"StandardScaler\" von sklearn benutzt.\n",
    "Nach diesem Schritt sind die Daten vorbereitet."
   ]
  },
  {
   "cell_type": "code",
   "execution_count": 12,
   "metadata": {
    "collapsed": false,
    "pycharm": {
     "name": "#%%\n"
    }
   },
   "outputs": [],
   "source": [
    "from sklearn.preprocessing import StandardScaler\n",
    "stdsc = StandardScaler()\n",
    "x_train_std = stdsc.fit_transform(x_train)\n",
    "x_test_std = stdsc.transform(x_test)"
   ]
  },
  {
   "cell_type": "markdown",
   "metadata": {},
   "source": [
    "## Merkmalauswahl\n",
    "\n",
    "Aus 86 Merkmalen eine binäre Klassifizierung zu erstellen, würde zu einer Überanpassung des Modells führen. Es soll daher im Folgenden überprüft werden, welchen Einfluss die einzelnen Merkamle auf das Gesamtergebnis haben. Daraus kann geschlussfolgert werden, welche Merkmale unbedeutend und somit entfernbar sind.\n",
    "\n",
    "Dabei soll zuerst die Relevanz der einzelnen Merkmale mittels des RandomForest ermittelt werden, da dieser eine Gesamtübersicht für 86 Merkmale erstellen kann.\n",
    "\n",
    "### 1. RandomForest"
   ]
  },
  {
   "cell_type": "code",
   "execution_count": 13,
   "metadata": {},
   "outputs": [],
   "source": [
    "from sklearn.ensemble import RandomForestClassifier\n",
    "import numpy as np\n",
    "import matplotlib.pyplot as plt\n",
    "\n",
    "forest = RandomForestClassifier(n_estimators=500,\n",
    "                                random_state=1)\n",
    "\n",
    "forest.fit(x_train, y_train)\n",
    "importances = forest.feature_importances_"
   ]
  },
  {
   "cell_type": "markdown",
   "metadata": {},
   "source": [
    "Die hierbei erhaltenen Daten werden nun als Graphik dargestellt. Dabei ist ersichtlich, dass nach den ersten 15 Merkmalen der Balken nicht mehr dargestellt wird. Die ersten 15 Werte werden als Liste ausgegeben. Aus dieser wird anschließend eine qualifizierte Auswahl getroffen."
   ]
  },
  {
   "cell_type": "code",
   "execution_count": 14,
   "metadata": {},
   "outputs": [],
   "source": [
    "indices = np.argsort(importances)[::-1]\n",
    "\n",
    "feat_labels = df_test2_prepared.columns[:]"
   ]
  },
  {
   "cell_type": "code",
   "execution_count": 15,
   "metadata": {},
   "outputs": [
    {
     "data": {
      "image/png": "[encoded data removed]",
      "text/plain": [
       "<Figure size 432x288 with 1 Axes>"
      ]
     },
     "metadata": {
      "needs_background": "light"
     },
     "output_type": "display_data"
    }
   ],
   "source": [
    "plt.title('Feature Importance')\n",
    "plt.bar(range(x_train.shape[1]), \n",
    "        importances[indices],\n",
    "        align='center')\n",
    "\n",
    "plt.xticks(range(x_train.shape[1]), \n",
    "           feat_labels[indices], rotation=90)\n",
    "plt.xlim([-1, x_train.shape[1]])\n",
    "plt.tight_layout()\n",
    "plt.show()"
   ]
  },
  {
   "cell_type": "code",
   "execution_count": 36,
   "metadata": {},
   "outputs": [
    {
     "name": "stdout",
     "output_type": "stream",
     "text": [
      " 1. age                            0.223696\n",
      " 2. education-num                  0.127925\n",
      " 3. capital-gain                   0.116186\n",
      " 4. hours-per-week                 0.115649\n",
      " 5. marital-status_Married-civ-spouse 0.069373\n",
      " 6. relationship_Husband           0.044778\n",
      " 7. capital-loss                   0.039865\n",
      " 8. marital-status_Never-married   0.022677\n",
      " 9. occupation_Exec-managerial     0.018327\n",
      "10. occupation_Prof-specialty      0.015776\n",
      "11. sex                            0.015200\n",
      "12. relationship_Not-in-family     0.012009\n",
      "13. relationship_Wife              0.010687\n",
      "14. workclass_Private              0.010073\n",
      "15. relationship_Own-child         0.009231\n"
     ]
    }
   ],
   "source": [
    "for f in range(15):\n",
    "    print('%2d. %-*s %f' % (f + 1, 30, feat_labels[indices[f]], importances[indices[f]]))"
   ]
  },
  {
   "cell_type": "markdown",
   "metadata": {},
   "source": [
    "Dabei fiel auf, dass innerhalb dieses Bereichs der Einfluss der Merkmale auf unter 1% fällt. Aus diesem Grund wurde entschieden, eine Grenze bei 1% zu setzen. Die 14 Elemente, deren Einfluss darüber liegt, werden nun in x_train_important gespeichert. Dies wird mittels der Methode SelectFromModel() durchgeführt. "
   ]
  },
  {
   "cell_type": "code",
   "execution_count": null,
   "metadata": {},
   "outputs": [],
   "source": [
    "from sklearn.feature_selection import SelectFromModel\n",
    "sfm = SelectFromModel(forest, threshold=0.010, prefit=True)\n",
    "\n",
    "x_train_important = sfm.transform(x_train)\n",
    "x_train_istd = stdsc.fit_transform(x_train_important)\n",
    "\n",
    "idx_IN_columns = [indices[x] for x in range(x_train_important.shape[1])]\n",
    "x_test_important = x_test[:, idx_IN_columns]\n",
    "x_test_istd = stdsc.transform(x_test_important)"
   ]
  },
  {
   "cell_type": "markdown",
   "metadata": {},
   "source": [
    "### 2. SBS\n",
    "\n",
    "Um zu zeigen, dass sich aus diesen 14 Elementen eine genaue Vorhersage treffen lässt, soll der SBS-Algorithmus durchgeführt werden. Dessen Resultat wird nach dem folgenden Codeabschnitt als Graphik dargestellt.\n",
    "\n",
    "Anhand dieser Graphik wird zudem deutlich, welche der verbleibenden 14 Werte nach Aussage des SBS-Algorithmus ausschlaggebend für das Gesamtergebnis sind."
   ]
  },
  {
   "cell_type": "code",
   "execution_count": null,
   "metadata": {},
   "outputs": [],
   "source": [
    "from sklearn.base import clone\n",
    "from itertools import combinations\n",
    "from sklearn.metrics import accuracy_score\n",
    "\n",
    "class SBS():\n",
    "    def __init__(self, estimator, k_features, scoring = accuracy_score, test_size = 0.25, random_state = 1):\n",
    "        self.scoring = scoring\n",
    "        self.estimator = clone(estimator)\n",
    "        self.k_features = k_features\n",
    "        self.test_size = test_size\n",
    "        self.random_state = random_state\n",
    "\n",
    "    def fit(self, x, y):\n",
    "        x_train, x_test, y_train, y_test = train_test_split(x, y, test_size = self.test_size, random_state = self.random_state)\n",
    "        dim = x_train.shape[1]\n",
    "        self.indices_ = tuple(range(dim))\n",
    "        self.subsets_ = [self.indices_]\n",
    "        score = self._calc_score(x_train, y_train, x_test, y_test, self.indices_)\n",
    "        self.scores_ = [score]\n",
    "\n",
    "        while dim > self.k_features:\n",
    "            scores = []\n",
    "            subsets = []\n",
    "\n",
    "            for p in combinations(self.indices_, r=dim - 1):\n",
    "                score = self._calc_score(x_train, y_train, x_test, y_test, p)\n",
    "                scores.append(score)\n",
    "                subsets.append(p)\n",
    "\n",
    "            best = np.argmax(scores)\n",
    "            self.indices_ = subsets[best]\n",
    "            self.subsets_.append(self.indices_)\n",
    "            dim -= 1\n",
    "            self.scores_.append(scores[best])\n",
    "        self.k_score_ = self.scores_[-1]\n",
    "        return self\n",
    "\n",
    "    def transform(self, x):\n",
    "        return x[:, self.indices_]\n",
    "\n",
    "    def _calc_score(self, x_train, y_train, x_test, y_test, indices):\n",
    "        self.estimator.fit(x_train[:, indices], y_train)\n",
    "        y_pred = self.estimator.predict(x_test[:, indices])\n",
    "        score = self.scoring(y_test, y_pred)\n",
    "        return score"
   ]
  },
  {
   "cell_type": "code",
   "execution_count": null,
   "metadata": {},
   "outputs": [
    {
     "data": {
      "text/plain": [
       "<__main__.SBS at 0x1d3e3faccd0>"
      ]
     },
     "execution_count": 81,
     "metadata": {},
     "output_type": "execute_result"
    }
   ],
   "source": [
    "from sklearn.neighbors import KNeighborsClassifier\n",
    "from sklearn.model_selection import train_test_split\n",
    "\n",
    "knn = KNeighborsClassifier(n_neighbors = 5)\n",
    "sbs = SBS(knn, k_features = 1)\n",
    "sbs.fit(x_train_istd, y_train)"
   ]
  },
  {
   "cell_type": "code",
   "execution_count": null,
   "metadata": {},
   "outputs": [
    {
     "data": {
      "image/png": "[encoded data removed]",
      "text/plain": [
       "<Figure size 432x288 with 1 Axes>"
      ]
     },
     "metadata": {
      "needs_background": "light"
     },
     "output_type": "display_data"
    }
   ],
   "source": [
    "# Plotting performance of feature subsets\n",
    "k_feat = [len(k) for k in sbs.subsets_]\n",
    "plt.plot(k_feat, sbs.scores_, marker='o')\n",
    "plt.ylim([0.7, 1.02])\n",
    "plt.ylabel('Accuracy')\n",
    "plt.xlabel('Number of features')\n",
    "plt.grid()\n",
    "plt.tight_layout()\n",
    "plt.show()"
   ]
  },
  {
   "cell_type": "markdown",
   "metadata": {},
   "source": [
    "Anhand dieser Graphik zeigt sich, dass SBS/KNN mit 4 Merkmalen die besten Ergebnisse erzielt. Dies wurde anhand der Trainings- und Testdaten überprüft. Hierfür wird die Trainigsgenauigkeit mit allen (86), den 14 zuvor gewählten und den vier scheinbar besten Merkmalen berechnet. \n",
    "Ebenso wird für alle diese Fälle die Testgenauigkeit berechnet."
   ]
  },
  {
   "cell_type": "code",
   "execution_count": null,
   "metadata": {},
   "outputs": [
    {
     "name": "stdout",
     "output_type": "stream",
     "text": [
      "Trainingsgenauigkeit für alle Merkmale:  0.8751119811539866\n",
      "Testgenauigkeit für alle Merkmale:  0.8195283958817668\n",
      "Trainingsgenauigkeit für 14 Merkmale:  0.8704336573874382\n",
      "Testgenauigkeit für 14 Merkmale:  0.7529724344071737\n",
      "Vier auswählgewählte Merkmale:  Index(['sex', 'capital-loss', 'hours-per-week', 'workclass_Local-gov'], dtype='object')\n",
      "Trainingsgenauigkeit für 4 Merkmale:  0.8342347124987558\n",
      "Testgenauigkeit für 4 Merkmale:  0.7996014613085354\n"
     ]
    }
   ],
   "source": [
    "elements = list(sbs.subsets_[10])\n",
    "\n",
    "# Genauigkeit für alle Merkmale (86)\n",
    "knn.fit(x_train_std, y_train)\n",
    "print('Trainingsgenauigkeit für alle Merkmale: ', knn.score(x_train_std, y_train))\n",
    "print('Testgenauigkeit für alle Merkmale: ', knn.score(x_test_std, y_test))\n",
    "\n",
    "#Genauigkeit für 15 Merkmale\n",
    "knn.fit(x_train_istd, y_train)\n",
    "print('Trainingsgenauigkeit für 14 Merkmale: ', knn.score(x_train_istd, y_train))\n",
    "print('Testgenauigkeit für 14 Merkmale: ', knn.score(x_test_istd, y_test))\n",
    "\n",
    "#Genauigkeit für 4 Merkmale\n",
    "print('Vier auswählgewählte Merkmale: ', df_test2_prepared.columns[1:][elements])\n",
    "knn.fit(x_train_istd[:, elements], y_train)\n",
    "print('Trainingsgenauigkeit für 4 Merkmale: ', knn.score(x_train_istd[:, elements], y_train))\n",
    "print('Testgenauigkeit für 4 Merkmale: ', knn.score(x_test_istd[:, elements], y_test))"
   ]
  },
  {
   "cell_type": "markdown",
   "metadata": {},
   "source": [
    "Anhand dieser Werte zeigt sich, dass sich die Trainingsgenauigkeit von allen zu 14 Merkmalen kaum verschlechtert. Dabei tritt eine deutliche Verschlechterung der Testgenauigkeit ein. Von 14 zu 4 Merkmalen sinkt die Trainingsgenauigkeit, dafür wird die Testgenauigkeit besser. Da das Modell anhand von Trainingsdaten erstellt werden soll, wird vorerst bei 14 Merkmalen verblieben."
   ]
  },
  {
   "cell_type": "markdown",
   "metadata": {},
   "source": [
    "## Daten komprimieren\n",
    "\n",
    "Um die Datenmenge noch weiter zu verringern, sollen nun Datenkomprimierungalgorithmen angewendet werden. Dabei sind drei Algorithmen bekannt: PCA, LDA und Kernel PCA.\n",
    "\n",
    "### 1. PCA\n",
    "\n",
    "PCA dient eigentlich zum unüberwachten Lernen. Dabei wird der Merkmalsraum linear transformiert und somit verändert. Merkmale werden nicht entfernt, sondern in Abhängigkeiten zueinander dargestellt. Hierfür wird zuerst eine Darstellung mit 2 verbleibenden Komponenten berechnet und visualisiert. "
   ]
  },
  {
   "cell_type": "code",
   "execution_count": null,
   "metadata": {},
   "outputs": [],
   "source": [
    "from sklearn.linear_model import LogisticRegression\n",
    "from matplotlib.colors import ListedColormap\n",
    "from sklearn.decomposition import PCA\n",
    "\n",
    "def plot_decision_regions(X, y, classifier, resolution=0.02):\n",
    "\n",
    "    # setup marker generator and color map\n",
    "    markers = ('s', 'x', 'o', '^', 'v')\n",
    "    colors = ('red', 'blue', 'lightgreen', 'gray', 'cyan')\n",
    "    cmap = ListedColormap(colors[:len(np.unique(y))])\n",
    "\n",
    "    # plot the decision surface\n",
    "    x1_min, x1_max = X[:, 0].min() - 1, X[:, 0].max() + 1\n",
    "    x2_min, x2_max = X[:, 1].min() - 1, X[:, 1].max() + 1\n",
    "    xx1, xx2 = np.meshgrid(np.arange(x1_min, x1_max, resolution),\n",
    "                           np.arange(x2_min, x2_max, resolution))\n",
    "    Z = classifier.predict(np.array([xx1.ravel(), xx2.ravel()]).T)\n",
    "    Z = Z.reshape(xx1.shape)\n",
    "    plt.contourf(xx1, xx2, Z, alpha=0.4, cmap=cmap)\n",
    "    plt.xlim(xx1.min(), xx1.max())\n",
    "    plt.ylim(xx2.min(), xx2.max())\n",
    "\n",
    "    # plot class samples\n",
    "    for idx, cl in enumerate(np.unique(y)):\n",
    "        plt.scatter(x = X[y == cl, 0], \n",
    "                    y = X[y == cl, 1],\n",
    "                    alpha = 0.6, \n",
    "                    c = colors[idx],\n",
    "                    edgecolor = 'black',\n",
    "                    marker = markers[idx], \n",
    "                    label = cl)\n",
    "\n",
    "pca = PCA(n_components=2)\n",
    "X_train_pca = pca.fit_transform(x_train_std)\n",
    "X_test_pca = pca.transform(x_test_std)\n",
    "\n",
    "lr = LogisticRegression()\n",
    "lr = lr.fit(X_train_pca, y_train)"
   ]
  },
  {
   "cell_type": "markdown",
   "metadata": {},
   "source": [
    "Das hierbei erstellte Ergebnis wird nun durch zwei Grafiken dargestellt. Die Erste stellt die Trainingsdaten und die Zweite die Testdaten dar."
   ]
  },
  {
   "cell_type": "code",
   "execution_count": null,
   "metadata": {},
   "outputs": [
    {
     "name": "stderr",
     "output_type": "stream",
     "text": [
      "C:\\Users\\HENRIK~1\\AppData\\Local\\Temp/ipykernel_292/3450516823.py:25: UserWarning: You passed a edgecolor/edgecolors ('black') for an unfilled marker ('x').  Matplotlib is ignoring the edgecolor in favor of the facecolor.  This behavior may change in the future.\n",
      "  plt.scatter(x = X[y == cl, 0],\n"
     ]
    },
    {
     "data": {
      "image/png": "[encoded data removed]",
      "text/plain": [
       "<Figure size 432x288 with 1 Axes>"
      ]
     },
     "metadata": {
      "needs_background": "light"
     },
     "output_type": "display_data"
    },
    {
     "name": "stderr",
     "output_type": "stream",
     "text": [
      "C:\\Users\\HENRIK~1\\AppData\\Local\\Temp/ipykernel_292/3450516823.py:25: UserWarning: You passed a edgecolor/edgecolors ('black') for an unfilled marker ('x').  Matplotlib is ignoring the edgecolor in favor of the facecolor.  This behavior may change in the future.\n",
      "  plt.scatter(x = X[y == cl, 0],\n"
     ]
    },
    {
     "data": {
      "image/png": "[encoded data removed]",
      "text/plain": [
       "<Figure size 432x288 with 1 Axes>"
      ]
     },
     "metadata": {
      "needs_background": "light"
     },
     "output_type": "display_data"
    }
   ],
   "source": [
    "plot_decision_regions(X_train_pca, y_train, classifier=lr)\n",
    "plt.title(\"Trainingsdaten\")\n",
    "plt.xlabel('PC 1')\n",
    "plt.ylabel('PC 2')\n",
    "plt.legend(loc='lower left')\n",
    "plt.tight_layout()\n",
    "plt.show()\n",
    "\n",
    "X_test_pca = pca.transform(x_test_std)\n",
    "\n",
    "plot_decision_regions(X_test_pca, y_test, classifier=lr)\n",
    "plt.title(\"Testdaten\")\n",
    "plt.xlabel('PC 1')\n",
    "plt.ylabel('PC 2')\n",
    "plt.legend(loc='lower left')\n",
    "plt.tight_layout()\n",
    "plt.show()"
   ]
  },
  {
   "cell_type": "markdown",
   "metadata": {},
   "source": [
    "Anhand der Verteilungen in den Grafiken ist schon ersichtlich, dass eine Trennung der Daten problematisch werden könnte. Um dies zu bestätigen, wird die Testgenauigkeiten für alle möglichen Aufteilungen (2 bis 14) berechnet werden. Dies wird im nächsten Codeabschnitt berechnet."
   ]
  },
  {
   "cell_type": "code",
   "execution_count": null,
   "metadata": {},
   "outputs": [
    {
     "name": "stdout",
     "output_type": "stream",
     "text": [
      "PCA Testgenauigkeit: 0.755, Komponenten:  2\n",
      "PCA Testgenauigkeit: 0.755, Komponenten:  3\n",
      "PCA Testgenauigkeit: 0.755, Komponenten:  4\n",
      "PCA Testgenauigkeit: 0.755, Komponenten:  5\n",
      "PCA Testgenauigkeit: 0.755, Komponenten:  6\n",
      "PCA Testgenauigkeit: 0.760, Komponenten:  7\n",
      "PCA Testgenauigkeit: 0.760, Komponenten:  8\n",
      "PCA Testgenauigkeit: 0.757, Komponenten:  9\n",
      "PCA Testgenauigkeit: 0.756, Komponenten:  10\n",
      "PCA Testgenauigkeit: 0.755, Komponenten:  11\n",
      "PCA Testgenauigkeit: 0.755, Komponenten:  12\n",
      "PCA Testgenauigkeit: 0.755, Komponenten:  13\n"
     ]
    }
   ],
   "source": [
    "from sklearn.preprocessing import StandardScaler\n",
    "from sklearn.pipeline import make_pipeline\n",
    "\n",
    "for i in range(2,x_train_important.shape[1]):\n",
    "    pipe_lr = make_pipeline(StandardScaler(),\n",
    "                        PCA(n_components=i),\n",
    "                        LogisticRegression(random_state=1, solver='lbfgs'))\n",
    "    pipe_lr.fit(x_train_important, y_train)\n",
    "    print('PCA Testgenauigkeit: %.3f, Komponenten: ' % pipe_lr.score(x_test_important, y_test), i)"
   ]
  },
  {
   "cell_type": "markdown",
   "metadata": {},
   "source": [
    "Hierbei bestätigt sich die zuvor getroffene Vermutung. Im Vergleich zum vorherigen Schritt gibt es einen starken Verlust an Genauigkeit, weshalb PCA nicht für die Komprimierung der Daten verwendet wird."
   ]
  },
  {
   "cell_type": "markdown",
   "metadata": {},
   "source": [
    "### 2. LDA\n",
    "\n",
    "LDA dient zum überwachten Lernen. Dabei wird ein Merkmalsunterraum gesucht, welcher die Trennbarkeit der Klassen optimiert."
   ]
  },
  {
   "cell_type": "code",
   "execution_count": null,
   "metadata": {},
   "outputs": [
    {
     "name": "stdout",
     "output_type": "stream",
     "text": [
      "LDA Testgenauigkeit: 0.831, Komponenten: 1\n"
     ]
    }
   ],
   "source": [
    "from sklearn.discriminant_analysis import LinearDiscriminantAnalysis as LDA\n",
    "from sklearn.linear_model import LogisticRegression\n",
    "\n",
    "lda = LDA(n_components=1)\n",
    "x_train_lda = lda.fit_transform(x_train_istd,y_train)\n",
    "\n",
    "lr = LogisticRegression()\n",
    "lr = lr.fit(x_train_lda, y_train)\n",
    "print('LDA Testgenauigkeit: %.3f, Komponenten: 1' % lr.score(x_train_lda, y_train))"
   ]
  },
  {
   "cell_type": "markdown",
   "metadata": {},
   "source": [
    "Auch hier zeigt sich wieder, dass die Trainingsgenauigkeit geringer wird. Somit bringt die Anwendung von LDA auch keinen Vorteil für diesen Anwendungsfall."
   ]
  },
  {
   "cell_type": "markdown",
   "metadata": {},
   "source": [
    "### 3. Kernel-PCA\n",
    "\n",
    "Das dritte Kompressionsverfahren ist Kernel-PCA. Dieses wird verwendet, wenn die Daten nicht linear trennbar sind. Wie sich durch PCA gezeigt hat, ist dies bei dem gegeben Datensatz der Fall. Allerdings ist die hierfür notwendige Berechnung sehr aufwendig. Deshalb wird zuerst nur mit wenigen Daten getestet, um zu überprüfen, ob eine Verbesserung möglich wäre."
   ]
  },
  {
   "cell_type": "code",
   "execution_count": null,
   "metadata": {},
   "outputs": [
    {
     "name": "stdout",
     "output_type": "stream",
     "text": [
      "Kernel-PCA Testgenauigkeit: 0.754\n"
     ]
    }
   ],
   "source": [
    "from sklearn.decomposition import KernelPCA\n",
    "\n",
    "x_train_kpca = x_train_istd[:5000]\n",
    "y_train_kpca = y_train[:5000]\n",
    "\n",
    "pipe_lr = make_pipeline(StandardScaler(),KernelPCA(kernel='rbf', gamma=15, n_components=8, n_jobs=-1), LogisticRegression(random_state=1))\n",
    "pipe_lr.fit(x_train_kpca, y_train_kpca)\n",
    "print('Kernel-PCA Testgenauigkeit: %.3f' % pipe_lr.score(x_test_istd, y_test))"
   ]
  },
  {
   "cell_type": "markdown",
   "metadata": {},
   "source": [
    "Dabei zeigt sich, dass Kernel-PCA keinen wirklichen Fortschritt bringt. Deshalb wird auch dies nicht weiter verfolgt."
   ]
  },
  {
   "cell_type": "markdown",
   "metadata": {},
   "source": [
    "\n",
    "### Ergebnis\n",
    "\n",
    "Es wird kein Datenkomprimierungsalgorithmus verwendet, da diese bei dem gegebenen Datensatz keinen Vorteil bieten. Somit wird mit den 14 zuvor gewählten Merkmalen weiterhin gearbeitet."
   ]
  },
  {
   "cell_type": "markdown",
   "metadata": {},
   "source": [
    "## Lernmethoden\n",
    "\n",
    "Im Folgenden werden die verschiedenen Lernverfahren dargestellt, um zu überprüfen, welches das beste Ergebnis liefert. Dafür werden zuerst alle Verfahren erstellt und anschließend die Genauigkeit der Trainings- als auch der Testdaten dargestellt. Dabei wurden die verschiedenen Argumente so gewählt, dass ein mögliches Überanpassen verhindert wird. So wird etwa der RandomForest mit einer maximalen Tiefe von 4 ausgeführt."
   ]
  },
  {
   "cell_type": "code",
   "execution_count": null,
   "metadata": {},
   "outputs": [],
   "source": [
    "from sklearn.linear_model import LogisticRegression\n",
    "from sklearn.ensemble import RandomForestClassifier\n",
    "from sklearn.neighbors import KNeighborsClassifier\n",
    "from sklearn.preprocessing import StandardScaler\n",
    "from sklearn.tree import DecisionTreeClassifier\n",
    "from sklearn.linear_model import Perceptron\n",
    "from sklearn.pipeline import make_pipeline\n",
    "from sklearn.decomposition import PCA\n",
    "from sklearn.svm import SVC\n",
    "\n",
    "# Erstellen der Pipelines\n",
    "pipe_lr = make_pipeline(LogisticRegression(C = 100.0, random_state = 1))\n",
    "pipe_pe = make_pipeline(Perceptron(max_iter = 40, eta0 =0.1, random_state = 2))\n",
    "pipe_svcL = make_pipeline(SVC(kernel='linear', C = 1.0, random_state = 1))\n",
    "pipe_svcR = make_pipeline(SVC(kernel='rbf', random_state = 1, gamma = 0.10, C = 10.0))\n",
    "pipe_dtc = make_pipeline(DecisionTreeClassifier(criterion = 'gini', max_depth = 4, random_state = 1))\n",
    "pipe_rfc = make_pipeline(RandomForestClassifier(criterion = 'gini', max_depth = 4, n_estimators = 12, random_state = 1, n_jobs=-1))\n",
    "pipe_knn = make_pipeline(KNeighborsClassifier(n_neighbors = 4, p = 2, metric = 'minkowski'))"
   ]
  },
  {
   "cell_type": "markdown",
   "metadata": {},
   "source": [
    "Zudem wird eine Funktion printPrecision erstellt, welche seperat ausgibt, zu welchem Anteil das Gehalt der Personen korrekt klassifiziert wurde."
   ]
  },
  {
   "cell_type": "code",
   "execution_count": null,
   "metadata": {},
   "outputs": [],
   "source": [
    "def printPrecision(pipe, dataType, x, y):\n",
    "        pred_x = pipe.predict(x)\n",
    "        print(dataType + \": Correctly detected <=50k: %.3f\" % (np.sum(pred_x[y == 1] == 1) / np.sum(y == 1)))\n",
    "        print(dataType + \": Correctly detected  >50k: %.3f\" % (np.sum(pred_x[y == 0] == 0) / np.sum(y == 0)))\n"
   ]
  },
  {
   "cell_type": "markdown",
   "metadata": {},
   "source": [
    "Nun wird eine Funktion erstellt, welche die Trainings- und Testgenauigkeit für die verschiedenen Algorithmen berechnet. In dieser wird printPrecision aufgerufen."
   ]
  },
  {
   "cell_type": "code",
   "execution_count": null,
   "metadata": {},
   "outputs": [
    {
     "name": "stdout",
     "output_type": "stream",
     "text": [
      "LogisticRegression\n",
      "Trainingsgenauigkeit: 0.842\n",
      "Testgenauigkeit: 0.755\n",
      "Training: Correctly detected <=50k: 0.581\n",
      "Training: Correctly detected  >50k: 0.929\n",
      "Test: Correctly detected <=50k: 0.098\n",
      "Test: Correctly detected  >50k: 0.969\n",
      "\n",
      "Perception\n",
      "Trainingsgenauigkeit: 0.786\n",
      "Testgenauigkeit: 0.755\n",
      "Training: Correctly detected <=50k: 0.699\n",
      "Training: Correctly detected  >50k: 0.814\n",
      "Test: Correctly detected <=50k: 0.098\n",
      "Test: Correctly detected  >50k: 0.969\n",
      "\n",
      "SVC-linear\n",
      "Trainingsgenauigkeit: 0.841\n",
      "Testgenauigkeit: 0.758\n",
      "Training: Correctly detected <=50k: 0.554\n",
      "Training: Correctly detected  >50k: 0.936\n",
      "Test: Correctly detected <=50k: 0.111\n",
      "Test: Correctly detected  >50k: 0.969\n",
      "\n",
      "SVC-rbf\n",
      "Trainingsgenauigkeit: 0.856\n",
      "Testgenauigkeit: 0.246\n",
      "Training: Correctly detected <=50k: 0.592\n",
      "Training: Correctly detected  >50k: 0.944\n",
      "Test: Correctly detected <=50k: 1.000\n",
      "Test: Correctly detected  >50k: 0.001\n",
      "\n",
      "DecisionTreeClassifier\n",
      "Trainingsgenauigkeit: 0.840\n",
      "Testgenauigkeit: 0.803\n",
      "Training: Correctly detected <=50k: 0.511\n",
      "Training: Correctly detected  >50k: 0.949\n",
      "Test: Correctly detected <=50k: 0.224\n",
      "Test: Correctly detected  >50k: 0.991\n",
      "\n",
      "RandomForestClassifier\n",
      "Trainingsgenauigkeit: 0.842\n",
      "Testgenauigkeit: 0.784\n",
      "Training: Correctly detected <=50k: 0.498\n",
      "Training: Correctly detected  >50k: 0.956\n",
      "Test: Correctly detected <=50k: 0.129\n",
      "Test: Correctly detected  >50k: 0.998\n",
      "\n",
      "KNN\n",
      "Trainingsgenauigkeit: 0.873\n",
      "Testgenauigkeit: 0.754\n",
      "Training: Correctly detected <=50k: 0.584\n",
      "Training: Correctly detected  >50k: 0.968\n",
      "Test: Correctly detected <=50k: 0.029\n",
      "Test: Correctly detected  >50k: 0.990\n",
      "\n"
     ]
    }
   ],
   "source": [
    "def testMlAlgo(pipe, name, x_train, y_train, x_test, y_test):\n",
    "    print(name)\n",
    "    pipe.fit(x_train, y_train)\n",
    "    print('Trainingsgenauigkeit: %.3f' % pipe.score(x_train, y_train))\n",
    "    print('Testgenauigkeit: %.3f' % pipe.score(x_test, y_test))\n",
    "    printPrecision(pipe, \"Training\", x_train, y_train)\n",
    "    printPrecision(pipe, \"Test\", x_test, y_test)\n",
    "    print()\n",
    "\n",
    "testMlAlgo(pipe_lr, 'LogisticRegression', x_train_istd, y_train, x_test_istd, y_test)  \n",
    "testMlAlgo(pipe_pe, 'Perception', x_train_istd, y_train, x_test_istd, y_test)  \n",
    "testMlAlgo(pipe_svcL, 'SVC-linear', x_train_istd, y_train, x_test_istd, y_test)  \n",
    "testMlAlgo(pipe_svcR, 'SVC-rbf', x_train_istd, y_train, x_test_istd, y_test) \n",
    "testMlAlgo(pipe_dtc, 'DecisionTreeClassifier', x_train_istd, y_train, x_test_istd, y_test)  \n",
    "testMlAlgo(pipe_rfc, 'RandomForestClassifier', x_train_istd, y_train, x_test_istd, y_test)  \n",
    "testMlAlgo(pipe_knn, 'KNN', x_train_istd, y_train, x_test_istd, y_test)  "
   ]
  },
  {
   "cell_type": "markdown",
   "metadata": {},
   "source": [
    "### Auswertung\n",
    "\n",
    "Bei den durchlaufenen Testfällen zeigt sich, dass der RandomForestClassifier das beste Ergebnis bei den Trainingsdaten liefert. Dabei liegt die Trainingsgenauigkeit bei 92,9% und die Testgenauigkeit bei 79,1%. Die beste Testgenauigkeit liefert der DecisionTreeClassifier mit 80,3% , hier liegt die Trainingsgenauigkeit bei 84%.\n",
    "\n",
    "Der Unterschied der Werte lässt darauf vermuten, dass eine Überanpassung vorliegen könnte. Deshalb wird der gleiche Test nochmal mit weniger Merkmalen durchgeführt. Hierfür werden die 4 Merkmale verwendet, welche die SBS-Analyse als am wichtigsten betrachtet hat.\n",
    "\n",
    "Die Zusatzinformationen zeigen, dass das Problem meist in der Erkennung der >50K-Fälle liegt."
   ]
  },
  {
   "cell_type": "code",
   "execution_count": null,
   "metadata": {},
   "outputs": [
    {
     "name": "stdout",
     "output_type": "stream",
     "text": [
      "LogisticRegression\n",
      "Trainingsgenauigkeit: 0.836\n",
      "Testgenauigkeit: 0.787\n",
      "Training: Correctly detected <=50k: 0.577\n",
      "Training: Correctly detected  >50k: 0.921\n",
      "Test: Correctly detected <=50k: 0.231\n",
      "Test: Correctly detected  >50k: 0.968\n",
      "\n",
      "Perception\n",
      "Trainingsgenauigkeit: 0.826\n",
      "Testgenauigkeit: 0.792\n",
      "Training: Correctly detected <=50k: 0.626\n",
      "Training: Correctly detected  >50k: 0.892\n",
      "Test: Correctly detected <=50k: 0.292\n",
      "Test: Correctly detected  >50k: 0.954\n",
      "\n",
      "SVC-linear\n",
      "Trainingsgenauigkeit: 0.837\n",
      "Testgenauigkeit: 0.788\n",
      "Training: Correctly detected <=50k: 0.576\n",
      "Training: Correctly detected  >50k: 0.924\n",
      "Test: Correctly detected <=50k: 0.243\n",
      "Test: Correctly detected  >50k: 0.966\n",
      "\n",
      "SVC-rbf\n",
      "Trainingsgenauigkeit: 0.842\n",
      "Testgenauigkeit: 0.790\n",
      "Training: Correctly detected <=50k: 0.561\n",
      "Training: Correctly detected  >50k: 0.935\n",
      "Test: Correctly detected <=50k: 0.244\n",
      "Test: Correctly detected  >50k: 0.968\n",
      "\n",
      "DecisionTreeClassifier\n",
      "Trainingsgenauigkeit: 0.840\n",
      "Testgenauigkeit: 0.795\n",
      "Training: Correctly detected <=50k: 0.511\n",
      "Training: Correctly detected  >50k: 0.950\n",
      "Test: Correctly detected <=50k: 0.194\n",
      "Test: Correctly detected  >50k: 0.991\n",
      "\n",
      "RandomForestClassifier\n",
      "Trainingsgenauigkeit: 0.850\n",
      "Testgenauigkeit: 0.803\n",
      "Training: Correctly detected <=50k: 0.543\n",
      "Training: Correctly detected  >50k: 0.951\n",
      "Test: Correctly detected <=50k: 0.224\n",
      "Test: Correctly detected  >50k: 0.991\n",
      "\n",
      "KNN\n",
      "Trainingsgenauigkeit: 0.826\n",
      "Testgenauigkeit: 0.800\n",
      "Training: Correctly detected <=50k: 0.322\n",
      "Training: Correctly detected  >50k: 0.993\n",
      "Test: Correctly detected <=50k: 0.210\n",
      "Test: Correctly detected  >50k: 0.992\n",
      "\n"
     ]
    }
   ],
   "source": [
    "k3 = list(sbs.subsets_[10])\n",
    "x_train_short = x_train_istd[:, k3]\n",
    "x_test_short = x_test_istd[:, k3]\n",
    "\n",
    "testMlAlgo(pipe_lr, 'LogisticRegression', x_train_short, y_train, x_test_short, y_test)  \n",
    "testMlAlgo(pipe_pe, 'Perception', x_train_short, y_train, x_test_short, y_test)  \n",
    "testMlAlgo(pipe_svcL, 'SVC-linear', x_train_short, y_train, x_test_short, y_test)  \n",
    "testMlAlgo(pipe_svcR, 'SVC-rbf', x_train_short, y_train, x_test_short, y_test) \n",
    "testMlAlgo(pipe_dtc, 'DecisionTreeClassifier', x_train_short, y_train, x_test_short, y_test)  \n",
    "testMlAlgo(pipe_rfc, 'RandomForestClassifier', x_train_short, y_train, x_test_short, y_test)  \n",
    "testMlAlgo(pipe_knn, 'KNN', x_train_short, y_train, x_test_short, y_test)  "
   ]
  },
  {
   "cell_type": "markdown",
   "metadata": {},
   "source": [
    "Hierbei zeigt sich, dass sich die Trainingsgenauigkeit nicht wirklich verändert bzw. leicht verschlechtert hat. Beim RandomForestAlgorithmus ist sie schlechter geworden. Die Testgenauigkeit steigt im Durchschnitt an, der Wert von 80% wird knapp erreicht. Zu bemerken ist ebenfalls, dass sich der Prozentwert der korrekt erkannten >50K-Fälle teils verdreifacht hat. Dies stellt einen wichtigen Fortschritt zur Verringerung der Überanpassung dar. Die <=50K-Fälle werden nach wie vor sehr zuverlässig erkannt.\n",
    "\n",
    "Ein anderes Problem stellt hierbei die Verteilung der Trainingsdaten dar. Es liegen deutlich mehr Trainingsdaten für <=50K vor als für >50K. Dies wird auch in der folgenden Grafik veranschaulicht. Dies ließe sich möglicherweise so verbessern, dass die Algorithmen eine Straffunktion anwenden, welche für die seltener vorkommenden Werte stärker agiert. Dies lässt sich mit class_weight='balanced' als Parameter erreichen. "
   ]
  },
  {
   "cell_type": "code",
   "execution_count": null,
   "metadata": {},
   "outputs": [
    {
     "name": "stdout",
     "output_type": "stream",
     "text": [
      "Trainingsdaten mit >50K :22633\n",
      "Trainingsdaten mit <=50K :7506\n",
      "Testdaten mit >50K :11355\n",
      "Testdaten mit <=50K :3700\n"
     ]
    }
   ],
   "source": [
    "print(\"Trainingsdaten mit >50K: \" + str(np.sum(y_train==0)))\n",
    "print(\"Trainingsdaten mit <=50K: \" + str(np.sum(y_train==1)))\n",
    "\n",
    "print(\"Testdaten mit >50K: \" + str(np.sum(y_test==0)))\n",
    "print(\"Testdaten mit <=50K: \" + str(np.sum(y_test==1)))"
   ]
  },
  {
   "cell_type": "code",
   "execution_count": null,
   "metadata": {},
   "outputs": [
    {
     "name": "stdout",
     "output_type": "stream",
     "text": [
      "LogisticRegression\n",
      "Trainingsgenauigkeit: 0.753\n",
      "Testgenauigkeit: 0.792\n",
      "Training: Correctly detected <=50k: 0.886\n",
      "Training: Correctly detected  >50k: 0.708\n",
      "Test: Correctly detected <=50k: 0.282\n",
      "Test: Correctly detected  >50k: 0.958\n",
      "\n",
      "Perception\n",
      "Trainingsgenauigkeit: 0.806\n",
      "Testgenauigkeit: 0.782\n",
      "Training: Correctly detected <=50k: 0.625\n",
      "Training: Correctly detected  >50k: 0.866\n",
      "Test: Correctly detected <=50k: 0.348\n",
      "Test: Correctly detected  >50k: 0.924\n",
      "\n",
      "SVC-linear\n",
      "Trainingsgenauigkeit: 0.716\n",
      "Testgenauigkeit: 0.794\n",
      "Training: Correctly detected <=50k: 0.890\n",
      "Training: Correctly detected  >50k: 0.659\n",
      "Test: Correctly detected <=50k: 0.270\n",
      "Test: Correctly detected  >50k: 0.965\n",
      "\n",
      "SVC-rbf\n",
      "Trainingsgenauigkeit: 0.754\n",
      "Testgenauigkeit: 0.800\n",
      "Training: Correctly detected <=50k: 0.892\n",
      "Training: Correctly detected  >50k: 0.708\n",
      "Test: Correctly detected <=50k: 0.314\n",
      "Test: Correctly detected  >50k: 0.958\n",
      "\n",
      "DecisionTreeClassifier\n",
      "Trainingsgenauigkeit: 0.757\n",
      "Testgenauigkeit: 0.803\n",
      "Training: Correctly detected <=50k: 0.890\n",
      "Training: Correctly detected  >50k: 0.713\n",
      "Test: Correctly detected <=50k: 0.313\n",
      "Test: Correctly detected  >50k: 0.962\n",
      "\n",
      "RandomForestClassifier\n",
      "Trainingsgenauigkeit: 0.757\n",
      "Testgenauigkeit: 0.803\n",
      "Training: Correctly detected <=50k: 0.888\n",
      "Training: Correctly detected  >50k: 0.713\n",
      "Test: Correctly detected <=50k: 0.313\n",
      "Test: Correctly detected  >50k: 0.963\n",
      "\n",
      "KNN\n",
      "Trainingsgenauigkeit: 0.826\n",
      "Testgenauigkeit: 0.800\n",
      "Training: Correctly detected <=50k: 0.322\n",
      "Training: Correctly detected  >50k: 0.993\n",
      "Test: Correctly detected <=50k: 0.210\n",
      "Test: Correctly detected  >50k: 0.992\n",
      "\n"
     ]
    }
   ],
   "source": [
    "pipe2_lr = make_pipeline(LogisticRegression(C = 100.0, random_state = 1, class_weight='balanced'))\n",
    "pipe2_pe = make_pipeline(Perceptron(max_iter = 40, eta0 =0.1, random_state = 2, class_weight='balanced' ))\n",
    "pipe2_svcL = make_pipeline(SVC(kernel='linear', C = 1.0, random_state = 1, class_weight='balanced' ))\n",
    "pipe2_svcR = make_pipeline(SVC(kernel='rbf', random_state = 1, gamma = 0.10, C = 10.0, class_weight='balanced'))\n",
    "pipe2_dtc = make_pipeline(DecisionTreeClassifier(criterion = 'gini', max_depth = 4, random_state = 1, class_weight='balanced'))\n",
    "pipe2_rfc = make_pipeline(RandomForestClassifier(criterion = 'gini', max_depth = 4, n_estimators = 12, random_state = 1, n_jobs=-1, class_weight='balanced'))\n",
    "pipe2_knn = make_pipeline(KNeighborsClassifier(n_neighbors = 4, p = 2, metric = 'minkowski'))\n",
    "\n",
    "testMlAlgo(pipe2_lr, 'LogisticRegression', x_train_short, y_train, x_test_short, y_test)  \n",
    "testMlAlgo(pipe2_pe, 'Perception', x_train_short, y_train, x_test_short, y_test)  \n",
    "testMlAlgo(pipe2_svcL, 'SVC-linear', x_train_short, y_train, x_test_short, y_test)  \n",
    "testMlAlgo(pipe2_svcR, 'SVC-rbf', x_train_short, y_train, x_test_short, y_test) \n",
    "testMlAlgo(pipe2_dtc, 'DecisionTreeClassifier', x_train_short, y_train, x_test_short, y_test)  \n",
    "testMlAlgo(pipe2_rfc, 'RandomForestClassifier', x_train_short, y_train, x_test_short, y_test)  \n",
    "testMlAlgo(pipe2_knn, 'KNN', x_train_short, y_train, x_test_short, y_test)  "
   ]
  },
  {
   "cell_type": "markdown",
   "metadata": {},
   "source": [
    "## Fazit\n",
    "\n",
    "Hierbei zeigt sich, dass sich durch das Einsetzen des neuen Parameters die Ausgewogenheit zwischen den beiden Testgenauigkeiten von <=50K und >50K verbessert. Die Trainingsgenauigkeit wird geringer, dafür liegt die Testgenauigkeit bei fast allen Algorithmen bei 80%. Dabei werden nahezu (>90%) alle <=50K Daten korrekt erkannt. Die >50K Daten werden schlechter erkannt. Vom Modell als >50K klassifizierte Personen erfüllen dieses Kriterium mit einer hohen Wahrscheinlichkeit.\n",
    "Somit ist die Aufgabenstellung ein Klassifizierungsmodell zu entwickeln, dass so genau wie möglich vorhersagt, ob eine Person ein Einkommen von mehr als 50000 Dollar pro Jahr hat, gelöst. "
   ]
  }
 ],
 "metadata": {
  "interpreter": {
   "hash": "b89b5cfaba6639976dc87ff2fec6d58faec662063367e2c229c520fe71072417"
  },
  "kernelspec": {
   "display_name": "Python 3 (ipykernel)",
   "language": "python",
   "name": "python3"
  },
  "language_info": {
   "codemirror_mode": {
    "name": "ipython",
    "version": 3
   },
   "file_extension": ".py",
   "mimetype": "text/x-python",
   "name": "python",
   "nbconvert_exporter": "python",
   "pygments_lexer": "ipython3",
   "version": "3.10.0"
  },
  "rise": {
   "autolaunch": true,
   "footer": "<div style=\"padding-left: 300px; font-size:12px\" class='dhbwfooter'>Enterprise Data Science Center - DHBW Mannheim / &copy; Prof. Dr. Kornmayer</div>",
   "scroll": true
  }
 },
 "nbformat": 4,
 "nbformat_minor": 4
}
